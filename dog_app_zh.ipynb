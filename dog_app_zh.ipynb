{
 "cells": [
  {
   "cell_type": "markdown",
   "metadata": {},
   "source": [
    "## 卷积神经网络（Convolutional Neural Network, CNN）\n",
    "\n",
    "## 项目：实现一个狗品种识别算法App\n",
    "\n",
    "在这个notebook文件中，有些模板代码已经提供给你，但你还需要实现更多的功能来完成这个项目。除非有明确要求，你无须修改任何已给出的代码。以**'(练习)'**开始的标题表示接下来的代码部分中有你需要实现的功能。这些部分都配有详细的指导，需要实现的部分也会在注释中以'TODO'标出。请仔细阅读所有的提示。\n",
    "\n",
    "除了实现代码外，你还**需要**回答一些与项目及代码相关的问题。每个需要回答的问题都会以 **'问题 X'** 标记。请仔细阅读每个问题，并且在问题后的 **'回答'** 部分写出完整的答案。我们将根据 你对问题的回答 和 撰写代码实现的功能 来对你提交的项目进行评分。\n",
    "\n",
    ">**提示：**Code 和 Markdown 区域可通过 **Shift + Enter** 快捷键运行。此外，Markdown可以通过双击进入编辑模式。\n",
    "\n",
    "项目中显示为_选做_的部分可以帮助你的项目脱颖而出，而不是仅仅达到通过的最低要求。如果你决定追求更高的挑战，请在此 notebook 中完成_选做_部分的代码。\n",
    "\n",
    "---\n",
    "\n",
    "### 让我们开始吧\n",
    "在这个notebook中，你将迈出第一步，来开发可以作为移动端或 Web应用程序一部分的算法。在这个项目的最后，你的程序将能够把用户提供的任何一个图像作为输入。如果可以从图像中检测到一只狗，它会输出对狗品种的预测。如果图像中是一个人脸，它会预测一个与其最相似的狗的种类。下面这张图展示了完成项目后可能的输出结果。（……实际上我们希望每个学生的输出结果不相同！）\n",
    "\n",
    "![Sample Dog Output](images/sample_dog_output.png)\n",
    "\n",
    "在现实世界中，你需要拼凑一系列的模型来完成不同的任务；举个例子，用来预测狗种类的算法会与预测人类的算法不同。在做项目的过程中，你可能会遇到不少失败的预测，因为并不存在完美的算法和模型。你最终提交的不完美的解决方案也一定会给你带来一个有趣的学习经验！\n",
    "\n",
    "### 项目内容\n",
    "\n",
    "我们将这个notebook分为不同的步骤，你可以使用下面的链接来浏览此notebook。\n",
    "\n",
    "* [Step 0](#step0): 导入数据集\n",
    "* [Step 1](#step1): 检测人脸\n",
    "* [Step 2](#step2): 检测狗狗\n",
    "* [Step 3](#step3): 从头创建一个CNN来分类狗品种\n",
    "* [Step 4](#step4): 使用一个CNN来区分狗的品种(使用迁移学习)\n",
    "* [Step 5](#step5): 建立一个CNN来分类狗的品种（使用迁移学习）\n",
    "* [Step 6](#step6): 完成你的算法\n",
    "* [Step 7](#step7): 测试你的算法\n",
    "\n",
    "在该项目中包含了如下的问题：\n",
    "\n",
    "* [问题 1](#question1)\n",
    "* [问题 2](#question2)\n",
    "* [问题 3](#question3)\n",
    "* [问题 4](#question4)\n",
    "* [问题 5](#question5)\n",
    "* [问题 6](#question6)\n",
    "* [问题 7](#question7)\n",
    "* [问题 8](#question8)\n",
    "* [问题 9](#question9)\n",
    "* [问题 10](#question10)\n",
    "* [问题 11](#question11)\n",
    "\n",
    "\n",
    "---\n",
    "<a id='step0'></a>\n",
    "## 步骤 0: 导入数据集\n",
    "\n",
    "### 导入狗数据集\n",
    "在下方的代码单元（cell）中，我们导入了一个狗图像的数据集。我们使用 scikit-learn 库中的 `load_files` 函数来获取一些变量：\n",
    "- `train_files`, `valid_files`, `test_files` - 包含图像的文件路径的numpy数组\n",
    "- `train_targets`, `valid_targets`, `test_targets` - 包含独热编码分类标签的numpy数组\n",
    "- `dog_names` - 由字符串构成的与标签相对应的狗的种类"
   ]
  },
  {
   "cell_type": "markdown",
   "metadata": {},
   "source": [
    "# 提问1 为什么earlystop在我设置了patience等于10后，val_loss 已经开始上升了，但是还是没有自动停止？ ----Step3"
   ]
  },
  {
   "cell_type": "markdown",
   "metadata": {},
   "source": [
    "[sklearn.datasets](http://scikit-learn.org/stable/datasets/index.html) scikit-learn’s datasets.load_files for directories of text files where the name of each directory is the name of each category and each file inside of each directory corresponds to one sample from that category\n",
    "``` python\n",
    "from sklearn import datasets\n",
    "rawData = datasets.load_files(\"data_folder\")\n",
    "\n",
    "rawData\n",
    "Out[10]: \n",
    "{'DESCR': None,\n",
    " 'data': ['5 start, \\r\\ni like this book.',\n",
    "  '4 start, \\r\\nthis book is good,\\r\\ni like it.',\n",
    "  \"1 start, \\r\\npretty bad, don't like it at all.\",\n",
    "  \"2 start, \\r\\nwe don't like so much.\"],\n",
    " 'filenames': array(['data_folder\\\\positive_folder\\\\1.txt',\n",
    "        'data_folder\\\\positive_folder\\\\2.txt',\n",
    "        'data_folder\\\\negative_folder\\\\4.txt',\n",
    "        'data_folder\\\\negative_folder\\\\3.txt'], \n",
    "       dtype='|S33'),\n",
    " 'target': array([1, 1, 0, 0]),\n",
    " 'target_names': ['negative_folder', 'positive_folder']}\n",
    "\n",
    "rawData.data\n",
    "Out[11]: \n",
    "['5 start, \\r\\ni like this book.',\n",
    " '4 start, \\r\\nthis book is good,\\r\\ni like it.',\n",
    " \"1 start, \\r\\npretty bad, don't like it at all.\",\n",
    " \"2 start, \\r\\nwe don't like so much.\"]\n",
    "\n",
    "rawData.target\n",
    "Out[12]: array([1, 1, 0, 0])\n",
    "\n",
    "rawData.filenames[rawData.target[0]]\n",
    "Out[13]: 'data_folder\\\\positive_folder\\\\2.txt\n",
    "```\n",
    "[glob](https://blog.csdn.net/sunhuaqiang1/article/details/70244497)\n",
    "\n",
    "\n",
    "-1 是去掉最后的`/`\n",
    "``` python\n",
    "dog_names = [item[20:-1] for item in sorted(glob(\"dogImages/train/*/\"))]\n",
    "for item in glob(\"dogImages/train/*/\"):\n",
    "    print (item[20:-1])\n",
    "```    "
   ]
  },
  {
   "cell_type": "code",
   "execution_count": 25,
   "metadata": {},
   "outputs": [
    {
     "name": "stdout",
     "output_type": "stream",
     "text": [
      "There are 133 total dog categories.\n",
      "There are 8351 total dog images.\n",
      "\n",
      "There are 6680 training dog images.\n",
      "There are 835 validation dog images.\n",
      "There are 836 test dog images.\n"
     ]
    }
   ],
   "source": [
    "from sklearn.datasets import load_files       \n",
    "from keras.utils import np_utils\n",
    "import numpy as np\n",
    "from glob import glob\n",
    "\n",
    "# define function to load train, test, and validation datasets\n",
    "def load_dataset(path):\n",
    "    data = load_files(path)\n",
    "    dog_files = np.array(data['filenames'])\n",
    "    dog_targets = np_utils.to_categorical(np.array(data['target']), 133)\n",
    "    return dog_files, dog_targets\n",
    "\n",
    "# load train, test, and validation datasets\n",
    "train_files, train_targets = load_dataset('/data/dog_images/train')\n",
    "valid_files, valid_targets = load_dataset('/data/dog_images/valid')\n",
    "test_files, test_targets = load_dataset('/data/dog_images/test')\n",
    "\n",
    "# load list of dog names\n",
    "dog_names = [item[27:-1] for item in sorted(glob(\"/data/dog_images/train/*/\"))]\n",
    "\n",
    "# print statistics about the dataset\n",
    "print('There are %d total dog categories.' % len(dog_names))\n",
    "print('There are %s total dog images.\\n' % len(np.hstack([train_files, valid_files, test_files])))\n",
    "print('There are %d training dog images.' % len(train_files))\n",
    "print('There are %d validation dog images.' % len(valid_files))\n",
    "print('There are %d test dog images.'% len(test_files))"
   ]
  },
  {
   "cell_type": "markdown",
   "metadata": {},
   "source": [
    "#### 修改一 \n",
    "改正 从 [item[20:-1] 到 [item[27:-1]\n",
    ">``` python\n",
    "dog_names = [item[27:-1] for item in sorted(glob(\"/data/dog_images/train/*/\"))]\n",
    "```"
   ]
  },
  {
   "cell_type": "code",
   "execution_count": 2,
   "metadata": {},
   "outputs": [
    {
     "data": {
      "text/plain": [
       "['Affenpinscher',\n",
       " 'Afghan_hound',\n",
       " 'Airedale_terrier',\n",
       " 'Akita',\n",
       " 'Alaskan_malamute',\n",
       " 'American_eskimo_dog',\n",
       " 'American_foxhound',\n",
       " 'American_staffordshire_terrier',\n",
       " 'American_water_spaniel',\n",
       " 'Anatolian_shepherd_dog',\n",
       " 'Australian_cattle_dog',\n",
       " 'Australian_shepherd',\n",
       " 'Australian_terrier',\n",
       " 'Basenji',\n",
       " 'Basset_hound',\n",
       " 'Beagle',\n",
       " 'Bearded_collie',\n",
       " 'Beauceron',\n",
       " 'Bedlington_terrier',\n",
       " 'Belgian_malinois',\n",
       " 'Belgian_sheepdog',\n",
       " 'Belgian_tervuren',\n",
       " 'Bernese_mountain_dog',\n",
       " 'Bichon_frise',\n",
       " 'Black_and_tan_coonhound',\n",
       " 'Black_russian_terrier',\n",
       " 'Bloodhound',\n",
       " 'Bluetick_coonhound',\n",
       " 'Border_collie',\n",
       " 'Border_terrier',\n",
       " 'Borzoi',\n",
       " 'Boston_terrier',\n",
       " 'Bouvier_des_flandres',\n",
       " 'Boxer',\n",
       " 'Boykin_spaniel',\n",
       " 'Briard',\n",
       " 'Brittany',\n",
       " 'Brussels_griffon',\n",
       " 'Bull_terrier',\n",
       " 'Bulldog',\n",
       " 'Bullmastiff',\n",
       " 'Cairn_terrier',\n",
       " 'Canaan_dog',\n",
       " 'Cane_corso',\n",
       " 'Cardigan_welsh_corgi',\n",
       " 'Cavalier_king_charles_spaniel',\n",
       " 'Chesapeake_bay_retriever',\n",
       " 'Chihuahua',\n",
       " 'Chinese_crested',\n",
       " 'Chinese_shar-pei',\n",
       " 'Chow_chow',\n",
       " 'Clumber_spaniel',\n",
       " 'Cocker_spaniel',\n",
       " 'Collie',\n",
       " 'Curly-coated_retriever',\n",
       " 'Dachshund',\n",
       " 'Dalmatian',\n",
       " 'Dandie_dinmont_terrier',\n",
       " 'Doberman_pinscher',\n",
       " 'Dogue_de_bordeaux',\n",
       " 'English_cocker_spaniel',\n",
       " 'English_setter',\n",
       " 'English_springer_spaniel',\n",
       " 'English_toy_spaniel',\n",
       " 'Entlebucher_mountain_dog',\n",
       " 'Field_spaniel',\n",
       " 'Finnish_spitz',\n",
       " 'Flat-coated_retriever',\n",
       " 'French_bulldog',\n",
       " 'German_pinscher',\n",
       " 'German_shepherd_dog',\n",
       " 'German_shorthaired_pointer',\n",
       " 'German_wirehaired_pointer',\n",
       " 'Giant_schnauzer',\n",
       " 'Glen_of_imaal_terrier',\n",
       " 'Golden_retriever',\n",
       " 'Gordon_setter',\n",
       " 'Great_dane',\n",
       " 'Great_pyrenees',\n",
       " 'Greater_swiss_mountain_dog',\n",
       " 'Greyhound',\n",
       " 'Havanese',\n",
       " 'Ibizan_hound',\n",
       " 'Icelandic_sheepdog',\n",
       " 'Irish_red_and_white_setter',\n",
       " 'Irish_setter',\n",
       " 'Irish_terrier',\n",
       " 'Irish_water_spaniel',\n",
       " 'Irish_wolfhound',\n",
       " 'Italian_greyhound',\n",
       " 'Japanese_chin',\n",
       " 'Keeshond',\n",
       " 'Kerry_blue_terrier',\n",
       " 'Komondor',\n",
       " 'Kuvasz',\n",
       " 'Labrador_retriever',\n",
       " 'Lakeland_terrier',\n",
       " 'Leonberger',\n",
       " 'Lhasa_apso',\n",
       " 'Lowchen',\n",
       " 'Maltese',\n",
       " 'Manchester_terrier',\n",
       " 'Mastiff',\n",
       " 'Miniature_schnauzer',\n",
       " 'Neapolitan_mastiff',\n",
       " 'Newfoundland',\n",
       " 'Norfolk_terrier',\n",
       " 'Norwegian_buhund',\n",
       " 'Norwegian_elkhound',\n",
       " 'Norwegian_lundehund',\n",
       " 'Norwich_terrier',\n",
       " 'Nova_scotia_duck_tolling_retriever',\n",
       " 'Old_english_sheepdog',\n",
       " 'Otterhound',\n",
       " 'Papillon',\n",
       " 'Parson_russell_terrier',\n",
       " 'Pekingese',\n",
       " 'Pembroke_welsh_corgi',\n",
       " 'Petit_basset_griffon_vendeen',\n",
       " 'Pharaoh_hound',\n",
       " 'Plott',\n",
       " 'Pointer',\n",
       " 'Pomeranian',\n",
       " 'Poodle',\n",
       " 'Portuguese_water_dog',\n",
       " 'Saint_bernard',\n",
       " 'Silky_terrier',\n",
       " 'Smooth_fox_terrier',\n",
       " 'Tibetan_mastiff',\n",
       " 'Welsh_springer_spaniel',\n",
       " 'Wirehaired_pointing_griffon',\n",
       " 'Xoloitzcuintli',\n",
       " 'Yorkshire_terrier']"
      ]
     },
     "execution_count": 2,
     "metadata": {},
     "output_type": "execute_result"
    }
   ],
   "source": [
    "dog_names"
   ]
  },
  {
   "cell_type": "markdown",
   "metadata": {},
   "source": [
    "### 导入人脸数据集\n",
    "\n",
    "在下方的代码单元中，我们导入人脸图像数据集，文件所在路径存储在名为 `human_files` 的 numpy 数组。"
   ]
  },
  {
   "cell_type": "markdown",
   "metadata": {},
   "source": [
    "以下展示了使用 shuffle() 方法的实例：\n",
    "\n",
    "\n",
    "```python\n",
    "import random\n",
    "\n",
    "list = [20, 16, 10, 5];\n",
    "random.shuffle(list)\n",
    "print \"随机排序列表 : \",  list\n",
    "\n",
    "random.shuffle(list)\n",
    "print \"随机排序列表 : \",  list\n",
    "以上实例运行后输出结果为：\n",
    "\n",
    "随机排序列表 :  [16, 5, 10, 20]\n",
    "随机排序列表 :  [16, 5, 20, 10]\n",
    "```"
   ]
  },
  {
   "cell_type": "code",
   "execution_count": 3,
   "metadata": {},
   "outputs": [
    {
     "name": "stdout",
     "output_type": "stream",
     "text": [
      "There are 13233 total human images.\n"
     ]
    }
   ],
   "source": [
    "import random\n",
    "random.seed(8675309)\n",
    "\n",
    "# 加载打乱后的人脸数据集的文件名\n",
    "human_files = np.array(glob(\"/data/lfw/*/*\"))\n",
    "random.shuffle(human_files)\n",
    "\n",
    "# 打印数据集的数据量\n",
    "print('There are %d total human images.' % len(human_files))"
   ]
  },
  {
   "cell_type": "code",
   "execution_count": 4,
   "metadata": {},
   "outputs": [
    {
     "data": {
      "text/plain": [
       "array(['/data/lfw/Rick_Dinse/Rick_Dinse_0002.jpg',\n",
       "       '/data/lfw/JC_Chasez/JC_Chasez_0001.jpg',\n",
       "       '/data/lfw/Carlos_Menem/Carlos_Menem_0013.jpg', ...,\n",
       "       '/data/lfw/George_Galloway/George_Galloway_0004.jpg',\n",
       "       '/data/lfw/Colin_Farrell/Colin_Farrell_0002.jpg',\n",
       "       '/data/lfw/Gwen_Stefani/Gwen_Stefani_0001.jpg'], \n",
       "      dtype='<U90')"
      ]
     },
     "execution_count": 4,
     "metadata": {},
     "output_type": "execute_result"
    }
   ],
   "source": [
    "human_files"
   ]
  },
  {
   "cell_type": "markdown",
   "metadata": {},
   "source": [
    "---\n",
    "<a id='step1'></a>\n",
    "## 步骤1：检测人脸\n",
    " \n",
    "我们将使用 OpenCV 中的 [Haar feature-based cascade classifiers](http://docs.opencv.org/trunk/d7/d8b/tutorial_py_face_detection.html) 来检测图像中的人脸。OpenCV 提供了很多预训练的人脸检测模型，它们以XML文件保存在 [github](https://github.com/opencv/opencv/tree/master/data/haarcascades)。我们已经下载了其中一个检测模型，并且把它存储在 `haarcascades` 的目录中。\n",
    "\n",
    "在如下代码单元中，我们将演示如何使用这个检测模型在样本图像中找到人脸。\n",
    "\n",
    "openCV cv2.imread() loads images as BGR while numpy.imread() loads them as RGB."
   ]
  },
  {
   "cell_type": "code",
   "execution_count": 5,
   "metadata": {},
   "outputs": [
    {
     "name": "stdout",
     "output_type": "stream",
     "text": [
      "Number of faces detected: 1\n"
     ]
    },
    {
     "data": {
      "image/png": "[encoded data removed]",
      "text/plain": [
       "<matplotlib.figure.Figure at 0x7f5654ecbf60>"
      ]
     },
     "metadata": {},
     "output_type": "display_data"
    }
   ],
   "source": [
    "import cv2                \n",
    "import matplotlib.pyplot as plt                        \n",
    "%matplotlib inline                               \n",
    "\n",
    "# 提取预训练的人脸检测模型\n",
    "face_cascade = cv2.CascadeClassifier('haarcascades/haarcascade_frontalface_alt.xml')\n",
    "\n",
    "# 加载彩色（通道顺序为BGR）图像\n",
    "img = cv2.imread(human_files[3])\n",
    "\n",
    "# 将BGR图像进行灰度处理\n",
    "gray = cv2.cvtColor(img, cv2.COLOR_BGR2GRAY)\n",
    "\n",
    "# 在图像中找出脸\n",
    "faces = face_cascade.detectMultiScale(gray)\n",
    "\n",
    "# 打印图像中检测到的脸的个数\n",
    "print('Number of faces detected:', len(faces))\n",
    "\n",
    "# 获取每一个所检测到的脸的识别框\n",
    "for (x,y,w,h) in faces:\n",
    "    # 在人脸图像中绘制出识别框\n",
    "    cv2.rectangle(img,(x,y),(x+w,y+h),(255,0,0),2)\n",
    "    \n",
    "# 将BGR图像转变为RGB图像以打印\n",
    "cv_rgb = cv2.cvtColor(img, cv2.COLOR_BGR2RGB)\n",
    "\n",
    "# 展示含有识别框的图像\n",
    "plt.imshow(cv_rgb)\n",
    "plt.show()"
   ]
  },
  {
   "cell_type": "markdown",
   "metadata": {},
   "source": [
    "在使用任何一个检测模型之前，将图像转换为灰度图是常用过程。`detectMultiScale` 函数使用储存在 `face_cascade` 中的的数据，对输入的灰度图像进行分类。\n",
    "\n",
    "在上方的代码中，`faces` 以 numpy 数组的形式，保存了识别到的面部信息。它其中每一行表示一个被检测到的脸，该数据包括如下四个信息：前两个元素  `x`、`y` 代表识别框左上角的 x 和 y 坐标（参照上图，注意 y 坐标的方向和我们默认的方向不同）；后两个元素代表识别框在 x 和 y 轴两个方向延伸的长度 `w` 和 `d`。 \n",
    "\n",
    "### 写一个人脸识别器\n",
    "\n",
    "我们可以将这个程序封装为一个函数。该函数的输入为人脸图像的**路径**，当图像中包含人脸时，该函数返回 `True`，反之返回 `False`。该函数定义如下所示。"
   ]
  },
  {
   "cell_type": "code",
   "execution_count": 6,
   "metadata": {},
   "outputs": [],
   "source": [
    "# 如果img_path路径表示的图像检测到了脸，返回\"True\" \n",
    "def face_detector(img_path):\n",
    "    img = cv2.imread(img_path)\n",
    "    gray = cv2.cvtColor(img, cv2.COLOR_BGR2GRAY)\n",
    "    faces = face_cascade.detectMultiScale(gray)\n",
    "    return len(faces) > 0"
   ]
  },
  {
   "cell_type": "markdown",
   "metadata": {},
   "source": [
    "### **【练习】** 评估人脸检测模型"
   ]
  },
  {
   "cell_type": "markdown",
   "metadata": {},
   "source": [
    "\n",
    "---\n",
    "\n",
    "<a id='question1'></a>\n",
    "### __问题 1:__ \n",
    "\n",
    "在下方的代码块中，使用 `face_detector` 函数，计算：\n",
    "\n",
    "- `human_files` 的前100张图像中，能够检测到**人脸**的图像占比多少？\n",
    "- `dog_files` 的前100张图像中，能够检测到**人脸**的图像占比多少？\n",
    "\n",
    "理想情况下，人图像中检测到人脸的概率应当为100%，而狗图像中检测到人脸的概率应该为0%。你会发现我们的算法并非完美，但结果仍然是可以接受的。我们从每个数据集中提取前100个图像的文件路径，并将它们存储在`human_files_short`和`dog_files_short`中。"
   ]
  },
  {
   "cell_type": "markdown",
   "metadata": {},
   "source": [
    "#### 修改二\n",
    "直接使用np.mean 来计算平均值,使用\n",
    "``` python\n",
    "hface_in_human = [face_detector(item) for item in human_files_short]\n",
    "hface_in_human.count(True)/len(hface_in_human)*100\n",
    "\n",
    "np.mean([face_detector(human) for human in human_files_short])\n",
    "```"
   ]
  },
  {
   "cell_type": "code",
   "execution_count": 7,
   "metadata": {},
   "outputs": [
    {
     "name": "stdout",
     "output_type": "stream",
     "text": [
      "There are 100% huamn faces in human_files, 11%  human faces in dog_files.\n"
     ]
    }
   ],
   "source": [
    "human_files_short = human_files[:100]\n",
    "dog_files_short = train_files[:100]\n",
    "## 请不要修改上方代码\n",
    "\n",
    "\n",
    "## TODO: 基于human_files_short和dog_files_short\n",
    "## 中的图像测试face_detector的表现\n",
    "#hface_in_human = [face_detector(item) for item in human_files_short]\n",
    "#hface_in_dog = [face_detector(item) for item in dog_files_short]\n",
    "\n",
    "faces_in_human = np.mean([face_detector(human) for human in human_files_short])\n",
    "faces_in_dog = np.mean([face_detector(dog) for dog in dog_files_short])\n",
    "# 打印数据集的数据量\n",
    "print('There are {0:.0f}% huamn faces in human_files,'.format(faces_in_human*100),\n",
    "     '{0:.0f}%  human faces in dog_files.'.format(faces_in_dog*100))\n"
   ]
  },
  {
   "cell_type": "markdown",
   "metadata": {},
   "source": [
    "---\n",
    "\n",
    "<a id='question2'></a>\n",
    "\n",
    "### __问题 2:__ \n",
    "\n",
    "就算法而言，该算法成功与否的关键在于，用户能否提供含有清晰面部特征的人脸图像。\n",
    "那么你认为，这样的要求在实际使用中对用户合理吗？如果你觉得不合理，你能否想到一个方法，即使图像中并没有清晰的面部特征，也能够检测到人脸？\n",
    "\n",
    "__回答:__ \n",
    "\n",
    "\n",
    "我认为这样的要求不合理，因为在实际操作中，有很大的几率摄像头不会捕捉到清晰的人脸。\n",
    "\n",
    "\n",
    "1.可以直接在opencv后面使用mlp或cnn进行训练-先用opencv处理图像，再用mlp和cnn对图像进行学习，并输出。\n",
    "\n",
    "2.如果使用CNN或者mlp，可以旋转，拉伸，模糊一下图像，并把这些生成的图像加入数据库，然后再次训练，这样训练好的识别器就可以学习到图片在不同情况下的信息。\n",
    "\n",
    "使用Haar Cascades技术来检测人脸的原理请参阅：[Face Detection using Haar Cascades] (https://docs.opencv.org/3.3.0/d7/d8b/tutorial_py_face_detection.html)"
   ]
  },
  {
   "cell_type": "markdown",
   "metadata": {},
   "source": [
    "---\n",
    "\n",
    "<a id='Selection1'></a>\n",
    "### 选做：\n",
    "\n",
    "我们建议在你的算法中使用opencv的人脸检测模型去检测人类图像，不过你可以自由地探索其他的方法，尤其是尝试使用深度学习来解决它:)。请用下方的代码单元来设计和测试你的面部监测算法。如果你决定完成这个_选做_任务，你需要报告算法在每一个数据集上的表现。"
   ]
  },
  {
   "cell_type": "code",
   "execution_count": null,
   "metadata": {},
   "outputs": [],
   "source": [
    "features = [cv2.cvtColor(cv2.imread(item), cv2.COLOR_BGR2GRAY) for item in human_files]\n",
    "target = np.ones(human_files.shape[0])"
   ]
  },
  {
   "cell_type": "code",
   "execution_count": null,
   "metadata": {},
   "outputs": [],
   "source": [
    "features = np.array(features).reshape(np.array(features).shape[0], 1, 250, 250)"
   ]
  },
  {
   "cell_type": "code",
   "execution_count": null,
   "metadata": {},
   "outputs": [],
   "source": [
    "## (选做) TODO: 报告另一个面部检测算法在LFW数据集上的表现\n",
    "### 你可以随意使用所需的代码单元数\n",
    "from sklearn.model_selection import train_test_split\n",
    "X_train, X_test, y_train, y_test = train_test_split(features, target, test_size = 0.2, random_state = 42) "
   ]
  },
  {
   "cell_type": "code",
   "execution_count": null,
   "metadata": {},
   "outputs": [],
   "source": [
    "X_train = X_train.astype('float32')/255\n",
    "X_test = X_test.astype('float32')/255\n",
    "print(X_train.shape[0], 'train samples')\n",
    "print(X_test.shape[0], 'test samples')"
   ]
  },
  {
   "cell_type": "code",
   "execution_count": null,
   "metadata": {},
   "outputs": [],
   "source": [
    "# break training set into training and validation sets\n",
    "(X_train, X_valid) = X_train[5000:], X_train[:5000]\n",
    "(y_train, y_valid) = y_train[5000:], y_train[:5000]\n",
    "\n",
    "\n",
    "# print shape of training set\n",
    "print('x_train shape:', X_train.shape)\n",
    "\n",
    "# print number of training, validation, and test images\n",
    "print(X_train.shape[0], 'train samples')\n",
    "print(X_test.shape[0], 'test samples')\n",
    "print(X_valid.shape[0], 'validation samples')"
   ]
  },
  {
   "cell_type": "code",
   "execution_count": null,
   "metadata": {},
   "outputs": [],
   "source": [
    "from keras.preprocessing.image import ImageDataGenerator\n",
    "# create and configure augmented image generator\n",
    "datagen_train = ImageDataGenerator(\n",
    "    width_shift_range=0.1,  # randomly shift images horizontally (10% of total width)\n",
    "    height_shift_range=0.1,  # randomly shift images vertically (10% of total height)\n",
    "    horizontal_flip=True) # randomly flip images horizontally\n",
    "\n",
    "# fit augmented image generator on data\n",
    "datagen_train.fit(X_train)"
   ]
  },
  {
   "cell_type": "code",
   "execution_count": null,
   "metadata": {},
   "outputs": [],
   "source": [
    "from keras.models import Sequential\n",
    "from keras.layers import Dense, Dropout, Flatten\n",
    "\n",
    "# define the model\n",
    "model = Sequential()\n",
    "model.add(Flatten(input_shape=X_train.shape[1:]))\n",
    "model.add(Dense(64, activation='relu'))\n",
    "model.add(Dropout(0.2))\n",
    "model.add(Dense(32, activation='relu'))\n",
    "model.add(Dropout(0.2))\n",
    "model.add(Dense(1, activation='sigmoid'))\n",
    "\n",
    "# summarize the model\n",
    "model.summary()"
   ]
  },
  {
   "cell_type": "code",
   "execution_count": null,
   "metadata": {},
   "outputs": [],
   "source": [
    "model.compile(loss='binary_crossentropy', optimizer='adam', \n",
    "              metrics=['accuracy'])"
   ]
  },
  {
   "cell_type": "code",
   "execution_count": null,
   "metadata": {},
   "outputs": [],
   "source": [
    "# evaluate test accuracy\n",
    "score = model.evaluate(X_test, y_test, verbose=0)\n",
    "accuracy = 100*score[1]\n",
    "\n",
    "# print test accuracy\n",
    "print('Test accuracy: %.4f%%' % accuracy)"
   ]
  },
  {
   "cell_type": "code",
   "execution_count": null,
   "metadata": {},
   "outputs": [],
   "source": [
    "from keras.callbacks import ModelCheckpoint   \n",
    "\n",
    "batch_size = 32\n",
    "epochs = 10\n",
    "\n",
    "# train the model\n",
    "checkpointer = ModelCheckpoint(filepath='aug_model.weights.best.hdf5', verbose=1, \n",
    "                               save_best_only=True)\n",
    "model.fit_generator(datagen_train.flow(X_train, y_train, batch_size=batch_size),\n",
    "                    steps_per_epoch=X_train.shape[0] // batch_size,\n",
    "                    epochs=epochs, verbose=2, callbacks=[checkpointer],\n",
    "                    validation_data=(X_valid, y_valid),\n",
    "                    validation_steps=X_valid.shape[0] // batch_size)"
   ]
  },
  {
   "cell_type": "markdown",
   "metadata": {},
   "source": [
    "verbose：日志显示\n",
    "\n",
    "verbose = 0 为不在标准输出流输出日志信息\n",
    "\n",
    "verbose = 1 为输出进度条记录\n",
    "\n",
    "verbose = 2 为每个epoch输出一行记录\n",
    "\n",
    "注意： 默认为 1"
   ]
  },
  {
   "cell_type": "code",
   "execution_count": null,
   "metadata": {},
   "outputs": [],
   "source": [
    "#model.load_weights('dog.model.best.hdf5')\n",
    "# evaluate test accuracy\n",
    "score = model.evaluate(X_test, y_test, verbose=0)\n",
    "accuracy = 100*score[1]\n",
    "\n",
    "# print test accuracy\n",
    "print('Test accuracy: %.4f%%' % accuracy)\n"
   ]
  },
  {
   "cell_type": "markdown",
   "metadata": {},
   "source": [
    "---\n",
    "<a id='step2'></a>\n",
    "\n",
    "## 步骤 2: 检测狗狗\n",
    "\n",
    "在这个部分中，我们使用预训练的 [ResNet-50](http://ethereon.github.io/netscope/#/gist/db945b393d40bfa26006) 模型去检测图像中的狗。下方的第一行代码就是下载了 ResNet-50 模型的网络结构参数，以及基于 [ImageNet](http://www.image-net.org/) 数据集的预训练权重。\n",
    "\n",
    "ImageNet 这目前一个非常流行的数据集，常被用来测试图像分类等计算机视觉任务相关的算法。它包含超过一千万个 URL，每一个都链接到 [1000 categories](https://gist.github.com/yrevar/942d3a0ac09ec9e5eb3a) 中所对应的一个物体的图像。任给输入一个图像，该 ResNet-50 模型会返回一个对图像中物体的预测结果。"
   ]
  },
  {
   "cell_type": "code",
   "execution_count": 8,
   "metadata": {},
   "outputs": [
    {
     "name": "stdout",
     "output_type": "stream",
     "text": [
      "Downloading data from https://github.com/fchollet/deep-learning-models/releases/download/v0.2/resnet50_weights_tf_dim_ordering_tf_kernels.h5\n",
      "102858752/102853048 [==============================] - 8s 0us/step\n"
     ]
    }
   ],
   "source": [
    "from keras.applications.resnet50 import ResNet50\n",
    "\n",
    "# 定义ResNet50模型\n",
    "ResNet50_model = ResNet50(weights='imagenet')"
   ]
  },
  {
   "cell_type": "markdown",
   "metadata": {},
   "source": [
    "### 数据预处理\n",
    "\n",
    "- 在使用 TensorFlow 作为后端的时候，在 Keras 中，CNN 的输入是一个4维数组（也被称作4维张量），它的各维度尺寸为 `(nb_samples, rows, columns, channels)`。其中 `nb_samples` 表示图像（或者样本）的总数，`rows`, `columns`, 和 `channels` 分别表示图像的行数、列数和通道数。\n",
    "\n",
    "\n",
    "- 下方的 `path_to_tensor` 函数实现如下将彩色图像的字符串型的文件路径作为输入，返回一个4维张量，作为 Keras CNN 输入。因为我们的输入图像是彩色图像，因此它们具有三个通道（ `channels` 为 `3`）。\n",
    "    1. 该函数首先读取一张图像，然后将其缩放为 224×224 的图像。\n",
    "    2. 随后，该图像被调整为具有4个维度的张量。\n",
    "    3. 对于任一输入图像，最后返回的张量的维度是：`(1, 224, 224, 3)`。\n",
    "\n",
    "\n",
    "- `paths_to_tensor` 函数将图像路径的字符串组成的 numpy 数组作为输入，并返回一个4维张量，各维度尺寸为 `(nb_samples, 224, 224, 3)`。 在这里，`nb_samples`是提供的图像路径的数据中的样本数量或图像数量。你也可以将 `nb_samples` 理解为数据集中3维张量的个数（每个3维张量表示一个不同的图像。"
   ]
  },
  {
   "cell_type": "markdown",
   "metadata": {},
   "source": [
    "[image](https://tensorflow.google.cn/api_docs/python/tf/keras/preprocessing/image/load_img?hl=zh-cn)\n",
    "\n",
    "Arguments:\n",
    "\n",
    "path: Path to image file\n",
    "\n",
    "grayscale: Boolean, whether to load the image as grayscale.\n",
    "\n",
    "target_size: Either None (default to original size) or tuple of ints (img_height, img_width).\n",
    "\n",
    "interpolation: Interpolation method used to resample the image if the target size is different from that of the loaded image. Supported methods are \"nearest\", \"bilinear\", and \"bicubic\". If PIL version 1.1.3 or newer is installed, \"lanczos\" is also supported. If PIL version 3.4.0 or newer is installed, \"box\" and \"hamming\" are also supported. By default, \"nearest\" is used.\n",
    "\n",
    "Returns:\n",
    "A PIL Image instance.\n",
    "\n",
    "np.expand_dim-(https://blog.csdn.net/qq_16949707/article/details/53418912)\n",
    "\n",
    "tqdm - (https://pypi.org/project/tqdm/)"
   ]
  },
  {
   "cell_type": "code",
   "execution_count": 9,
   "metadata": {},
   "outputs": [],
   "source": [
    "from keras.preprocessing import image                  \n",
    "from tqdm import tqdm\n",
    "\n",
    "def path_to_tensor(img_path):\n",
    "    # 用PIL加载RGB图像为PIL.Image.Image类型\n",
    "    img = image.load_img(img_path, target_size=(224, 224))\n",
    "    # 将PIL.Image.Image类型转化为格式为(224, 224, 3)的3维张量\n",
    "    x = image.img_to_array(img)#Converts a PIL Image instance to a Numpy array.\n",
    "    # 将3维张量转化为格式为(1, 224, 224, 3)的4维张量并返回\n",
    "    return np.expand_dims(x, axis=0)\n",
    "\n",
    "def paths_to_tensor(img_paths):\n",
    "    list_of_tensors = [path_to_tensor(img_path) for img_path in tqdm(img_paths)]\n",
    "    return np.vstack(list_of_tensors)"
   ]
  },
  {
   "cell_type": "markdown",
   "metadata": {},
   "source": [
    "### 基于 ResNet-50 架构进行预测\n",
    "\n",
    "对于通过上述步骤得到的四维张量，在把它们输入到 ResNet-50 网络、或 Keras 中其他类似的预训练模型之前，还需要进行一些额外的处理：\n",
    "1. 首先，这些图像的通道顺序为 RGB，我们需要重排他们的通道顺序为 BGR。\n",
    "2. 其次，预训练模型的输入都进行了额外的归一化过程。因此我们在这里也要对这些张量进行归一化，即对所有图像所有像素都减去像素均值 `[103.939, 116.779, 123.68]`（以 RGB 模式表示，根据所有的 ImageNet 图像算出）。\n",
    "\n",
    "导入的 `preprocess_input` 函数实现了这些功能。如果你对此很感兴趣，可以在 [这里](https://github.com/fchollet/keras/blob/master/keras/applications/imagenet_utils.py) 查看 `preprocess_input`的代码。\n",
    "\n",
    "\n",
    "在实现了图像处理的部分之后，我们就可以使用模型来进行预测。这一步通过 `predict` 方法来实现，它返回一个向量，向量的第 i 个元素表示该图像属于第 i 个 ImageNet 类别的概率。这通过如下的 `ResNet50_predict_labels` 函数实现。\n",
    "\n",
    "通过对预测出的向量取用 argmax 函数（找到有最大概率值的下标序号），我们可以得到一个整数，即模型预测到的物体的类别。进而根据这个 [清单](https://gist.github.com/yrevar/942d3a0ac09ec9e5eb3a)，我们能够知道这具体是哪个品种的狗狗。\n"
   ]
  },
  {
   "cell_type": "code",
   "execution_count": 10,
   "metadata": {},
   "outputs": [],
   "source": [
    "from keras.applications.resnet50 import preprocess_input, decode_predictions\n",
    "def ResNet50_predict_labels(img_path):\n",
    "    # 返回img_path路径的图像的预测向量\n",
    "    img = preprocess_input(path_to_tensor(img_path))\n",
    "    return np.argmax(ResNet50_model.predict(img))"
   ]
  },
  {
   "cell_type": "markdown",
   "metadata": {},
   "source": [
    "### 完成狗检测模型\n",
    "\n",
    "\n",
    "在研究该 [清单](https://gist.github.com/yrevar/942d3a0ac09ec9e5eb3a) 的时候，你会注意到，狗类别对应的序号为151-268。因此，在检查预训练模型判断图像是否包含狗的时候，我们只需要检查如上的 `ResNet50_predict_labels` 函数是否返回一个介于151和268之间（包含区间端点）的值。\n",
    "\n",
    "我们通过这些想法来完成下方的 `dog_detector` 函数，如果从图像中检测到狗就返回 `True`，否则返回 `False`。"
   ]
  },
  {
   "cell_type": "code",
   "execution_count": 11,
   "metadata": {},
   "outputs": [],
   "source": [
    "def dog_detector(img_path):\n",
    "    prediction = ResNet50_predict_labels(img_path)\n",
    "    return ((prediction <= 268) & (prediction >= 151)) "
   ]
  },
  {
   "cell_type": "markdown",
   "metadata": {},
   "source": [
    "### 【作业】评估狗狗检测模型\n",
    "\n",
    "---\n",
    "\n",
    "<a id='question3'></a>\n",
    "### __问题 3:__ \n",
    "\n",
    "在下方的代码块中，使用 `dog_detector` 函数，计算：\n",
    "\n",
    "- `human_files_short`中图像检测到狗狗的百分比？\n",
    "- `dog_files_short`中图像检测到狗狗的百分比？"
   ]
  },
  {
   "cell_type": "markdown",
   "metadata": {},
   "source": [
    "#### 修改三\n",
    "直接使用np.mean 来计算平均值,使用\n",
    "``` python\n",
    "hface_in_human = [face_detector(item) for item in human_files_short]\n",
    "hface_in_human.count(True)/len(dog_in_human)*100\n",
    "\n",
    "np.mean([dog_detector(human) for human in human_files_short])\n",
    "```"
   ]
  },
  {
   "cell_type": "code",
   "execution_count": 12,
   "metadata": {},
   "outputs": [
    {
     "name": "stdout",
     "output_type": "stream",
     "text": [
      "There are 0% huamn faces in human_files, 100%  human faces in dog_files.\n"
     ]
    }
   ],
   "source": [
    "### TODO: 测试dog_detector函数在human_files_short和dog_files_short的表现\n",
    "\n",
    "faces_in_human = np.mean([dog_detector(human) for human in human_files_short])\n",
    "faces_in_dog = np.mean([dog_detector(dog) for dog in dog_files_short])\n",
    "# 打印数据集的数据量\n",
    "print('There are {0:.0f}% huamn faces in human_files,'.format(faces_in_human*100),\n",
    "     '{0:.0f}%  human faces in dog_files.'.format(faces_in_dog*100))\n"
   ]
  },
  {
   "cell_type": "markdown",
   "metadata": {},
   "source": [
    "---\n",
    "\n",
    "<a id='step3'></a>\n",
    "\n",
    "## 步骤 3: 从头开始创建一个CNN来分类狗品种\n",
    "\n",
    "\n",
    "现在我们已经实现了一个函数，能够在图像中识别人类及狗狗。但我们需要更进一步的方法，来对狗的类别进行识别。在这一步中，你需要实现一个卷积神经网络来对狗的品种进行分类。你需要__从头实现__你的卷积神经网络（在这一阶段，你还不能使用迁移学习），并且你需要达到超过1%的测试集准确率。在本项目的步骤五种，你还有机会使用迁移学习来实现一个准确率大大提高的模型。\n",
    "\n",
    "在添加卷积层的时候，注意不要加上太多的（可训练的）层。更多的参数意味着更长的训练时间，也就是说你更可能需要一个 GPU 来加速训练过程。万幸的是，Keras 提供了能够轻松预测每次迭代（epoch）花费时间所需的函数。你可以据此推断你算法所需的训练时间。\n",
    "\n",
    "值得注意的是，对狗的图像进行分类是一项极具挑战性的任务。因为即便是一个正常人，也很难区分布列塔尼犬和威尔士史宾格犬。\n",
    "\n",
    "\n",
    "布列塔尼犬（Brittany） | 威尔士史宾格犬（Welsh Springer Spaniel）\n",
    "- | - \n",
    "<img src=\"images/Brittany_02625.jpg\" width=\"100\"> | <img src=\"images/Welsh_springer_spaniel_08203.jpg\" width=\"200\">\n",
    "\n",
    "不难发现其他的狗品种会有很小的类间差别（比如金毛寻回犬和美国水猎犬）。\n",
    "\n",
    "\n",
    "金毛寻回犬（Curly-Coated Retriever） | 美国水猎犬（American Water Spaniel）\n",
    "- | -\n",
    "<img src=\"images/Curly-coated_retriever_03896.jpg\" width=\"200\"> | <img src=\"images/American_water_spaniel_00648.jpg\" width=\"200\">\n",
    "\n",
    "同样，拉布拉多犬（labradors）有黄色、棕色和黑色这三种。那么你设计的基于视觉的算法将不得不克服这种较高的类间差别，以达到能够将这些不同颜色的同类狗分到同一个品种中。\n",
    "\n",
    "黄色拉布拉多犬（Yellow Labrador） | 棕色拉布拉多犬（Chocolate Labrador） | 黑色拉布拉多犬（Black Labrador）\n",
    "- | -\n",
    "<img src=\"images/Labrador_retriever_06457.jpg\" width=\"150\"> | <img src=\"images/Labrador_retriever_06455.jpg\" width=\"240\"> | <img src=\"images/Labrador_retriever_06449.jpg\" width=\"220\">\n",
    "\n",
    "我们也提到了随机分类将得到一个非常低的结果：不考虑品种略有失衡的影响，随机猜测到正确品种的概率是1/133，相对应的准确率是低于1%的。\n",
    "\n",
    "请记住，在深度学习领域，实践远远高于理论。大量尝试不同的框架吧，相信你的直觉！当然，玩得开心！\n",
    "\n",
    "\n",
    "### 数据预处理\n",
    "\n",
    "\n",
    "通过对每张图像的像素值除以255，我们对图像实现了归一化处理。"
   ]
  },
  {
   "cell_type": "code",
   "execution_count": 13,
   "metadata": {},
   "outputs": [
    {
     "name": "stderr",
     "output_type": "stream",
     "text": [
      "100%|██████████| 6680/6680 [01:15<00:00, 88.64it/s] \n",
      "100%|██████████| 835/835 [00:08<00:00, 99.06it/s] \n",
      "100%|██████████| 836/836 [00:08<00:00, 99.09it/s] \n"
     ]
    }
   ],
   "source": [
    "from PIL import ImageFile                            \n",
    "ImageFile.LOAD_TRUNCATED_IMAGES = True #为什么？              \n",
    "\n",
    "# Keras中的数据预处理过程\n",
    "train_tensors = paths_to_tensor(train_files).astype('float32')/255\n",
    "valid_tensors = paths_to_tensor(valid_files).astype('float32')/255\n",
    "test_tensors = paths_to_tensor(test_files).astype('float32')/255"
   ]
  },
  {
   "cell_type": "markdown",
   "metadata": {},
   "source": [
    "### 【练习】模型架构\n",
    "\n",
    "\n",
    "创建一个卷积神经网络来对狗品种进行分类。在你代码块的最后，执行 `model.summary()` 来输出你模型的总结信息。\n",
    "    \n",
    "我们已经帮你导入了一些所需的 Python 库，如有需要你可以自行导入。如果你在过程中遇到了困难，如下是给你的一点小提示——该模型能够在5个 epoch 内取得超过1%的测试准确率，并且能在CPU上很快地训练。\n",
    "\n",
    "![Sample CNN](images/sample_cnn.png)"
   ]
  },
  {
   "cell_type": "markdown",
   "metadata": {},
   "source": [
    "---\n",
    "\n",
    "<a id='question4'></a>  \n",
    "\n",
    "### __问题 4:__ \n",
    "\n",
    "在下方的代码块中尝试使用 Keras 搭建卷积网络的架构，并回答相关的问题。\n",
    "\n",
    "1. 你可以尝试自己搭建一个卷积网络的模型，那么你需要回答你搭建卷积网络的具体步骤（用了哪些层）以及为什么这样搭建。\n",
    "2. 你也可以根据上图提示的步骤搭建卷积网络，那么请说明为何如上的架构能够在该问题上取得很好的表现。\n",
    "\n",
    "__回答:__ 我是使用上图的提示搭建的网络，上图可以缓慢的缩减维度，而又在同时慢慢的增加深度。对比之前自己写的CNN，如果增加深度或者减少维度太快的话，会损失很多的信息。"
   ]
  },
  {
   "cell_type": "markdown",
   "metadata": {},
   "source": [
    "#### 修改四\n",
    "1.不同基本CNN结构原理资料-http://cs231n.github.io/convolutional-networks/#architectures\n",
    "\n",
    ">The input layer (that contains the image) should be divisible by 2 many times. Common numbers include 32 (e.g. CIFAR-10), 64, 96 (e.g. STL-10), or 224 (e.g. common ImageNet ConvNets), 384, and 512.\n",
    "\n",
    ">The conv layers should be using small filters (e.g. 3x3 or at most 5x5), using a stride of S=1, and crucially, padding the input volume with zeros in such way that the conv layer does not alter the spatial dimensions of the input. That is, when F=3, then using P=1 will retain the original size of the input. When F=5, P=2. For a general F, it can be seen that P=(F−1)/2 preserves the input size. If you must use bigger filter sizes (such as 7x7 or so), it is only common to see this on the very first conv layer that is looking at the input image.\n",
    "\n",
    ">The pool layers are in charge of downsampling the spatial dimensions of the input. The most common setting is to use max-pooling with 2x2 receptive fields (i.e. F=2), and with a stride of 2 (i.e. S=2). Note that this discards exactly 75% of the activations in an input volume (due to downsampling by 2 in both width and height). Another slightly less common setting is to use 3x3 receptive fields with a stride of 2, but this makes. It is very uncommon to see receptive field sizes for max pooling that are larger than 3 because the pooling is then too lossy and aggressive. This usually leads to worse performance.\n",
    "\n",
    "2.加入：\n",
    "\n",
    ">Batch normalization layer用来解决Covariate Shift的问题 参考-https://www.cnblogs.com/guoyaohua/p/8724433.html\n",
    "\n",
    ">atchNorm为什么NB呢，关键还是效果好。①不仅仅极大提升了训练速度，收敛过程大大加快；②还能增加分类效果，一种解释是这是类似于Dropout的一种防止过拟合的正则化表达方式，所以不用Dropout也能达到相当的效果；③另外调参过程也简单多了，对于初始化要求没那么高，而且可以使用大的学习率等。总而言之，经过这么简单的变换，带来的好处多得很，这也是为何现在BN这么快流行起来的原因。\n",
    "\n",
    ">Dropout layer用来降低模型复杂度，增强模型的泛化能力，防止过拟合，顺带降低了运算量"
   ]
  },
  {
   "cell_type": "code",
   "execution_count": 14,
   "metadata": {},
   "outputs": [
    {
     "name": "stdout",
     "output_type": "stream",
     "text": [
      "_________________________________________________________________\n",
      "Layer (type)                 Output Shape              Param #   \n",
      "=================================================================\n",
      "conv2d_1 (Conv2D)            (None, 224, 224, 16)      448       \n",
      "_________________________________________________________________\n",
      "batch_normalization_1 (Batch (None, 224, 224, 16)      896       \n",
      "_________________________________________________________________\n",
      "max_pooling2d_2 (MaxPooling2 (None, 112, 112, 16)      0         \n",
      "_________________________________________________________________\n",
      "conv2d_2 (Conv2D)            (None, 112, 112, 32)      4640      \n",
      "_________________________________________________________________\n",
      "batch_normalization_2 (Batch (None, 112, 112, 32)      448       \n",
      "_________________________________________________________________\n",
      "max_pooling2d_3 (MaxPooling2 (None, 56, 56, 32)        0         \n",
      "_________________________________________________________________\n",
      "dropout_1 (Dropout)          (None, 56, 56, 32)        0         \n",
      "_________________________________________________________________\n",
      "conv2d_3 (Conv2D)            (None, 56, 56, 64)        18496     \n",
      "_________________________________________________________________\n",
      "batch_normalization_3 (Batch (None, 56, 56, 64)        224       \n",
      "_________________________________________________________________\n",
      "max_pooling2d_4 (MaxPooling2 (None, 28, 28, 64)        0         \n",
      "_________________________________________________________________\n",
      "dropout_2 (Dropout)          (None, 28, 28, 64)        0         \n",
      "_________________________________________________________________\n",
      "global_average_pooling2d_1 ( (None, 64)                0         \n",
      "_________________________________________________________________\n",
      "dense_1 (Dense)              (None, 133)               8645      \n",
      "=================================================================\n",
      "Total params: 33,797\n",
      "Trainable params: 33,013\n",
      "Non-trainable params: 784\n",
      "_________________________________________________________________\n"
     ]
    }
   ],
   "source": [
    "from keras.layers import Conv2D, MaxPooling2D, GlobalAveragePooling2D\n",
    "from keras.layers import Dropout, Flatten, Dense, Activation, BatchNormalization\n",
    "from keras.models import Sequential\n",
    "\n",
    "model = Sequential()\n",
    "\n",
    "\n",
    "### TODO: 定义你的网络架构\n",
    "model.add(Conv2D(filters=16, kernel_size=(3,3), padding='same', activation='relu', input_shape=(224, 224, 3)))   \n",
    "model.add(BatchNormalization(axis = 1 ))\n",
    "model.add(MaxPooling2D(pool_size=(2, 2)))\n",
    "\n",
    "model.add(Conv2D(filters=32, kernel_size=(3,3), padding='same', activation='relu'))\n",
    "model.add(BatchNormalization(axis = 1 ))\n",
    "model.add(MaxPooling2D(pool_size=(2, 2)))\n",
    "model.add(Dropout(0.2))\n",
    "\n",
    "model.add(Conv2D(filters=64, kernel_size=(3,3), padding='same', activation='relu'))\n",
    "model.add(BatchNormalization(axis = 1 ))\n",
    "model.add(MaxPooling2D(pool_size=(2, 2)))\n",
    "model.add(Dropout(0.2))\n",
    "\n",
    "model.add(GlobalAveragePooling2D())\n",
    "model.add(Dense(133, activation='softmax'))\n",
    "model.summary()\n"
   ]
  },
  {
   "cell_type": "code",
   "execution_count": 15,
   "metadata": {},
   "outputs": [],
   "source": [
    "## 编译模型\n",
    "model.compile(optimizer='adam', loss='categorical_crossentropy', metrics=['accuracy'])"
   ]
  },
  {
   "cell_type": "markdown",
   "metadata": {},
   "source": [
    "---"
   ]
  },
  {
   "cell_type": "markdown",
   "metadata": {},
   "source": [
    "## 【练习】训练模型\n",
    "\n",
    "\n",
    "---\n",
    "\n",
    "<a id='question5'></a>  \n",
    "\n",
    "### __问题 5:__ \n",
    "\n",
    "在下方代码单元训练模型。使用模型检查点（model checkpointing）来储存具有最低验证集 loss 的模型。\n",
    "\n",
    "可选题：你也可以对训练集进行 [数据增强](https://blog.keras.io/building-powerful-image-classification-models-using-very-little-data.html)，来优化模型的表现。\n",
    "\n"
   ]
  },
  {
   "cell_type": "code",
   "execution_count": 16,
   "metadata": {},
   "outputs": [
    {
     "data": {
      "text/plain": [
       "\"\\nfrom keras.preprocessing.image import ImageDataGenerator\\n\\n# create and configure augmented image generator\\ndatagen_train = ImageDataGenerator(\\n    width_shift_range=0.1,  # randomly shift images horizontally (10% of total width)\\n    height_shift_range=0.1,  # randomly shift images vertically (10% of total height)\\n    horizontal_flip=True) # randomly flip images horizontally\\n\\n# fit augmented image generator on data\\ndatagen_train.fit(train_tensors)\\n\\nfrom keras.callbacks import ModelCheckpoint   \\n\\nbatch_size = 32\\nepochs = 100\\n\\n# train the model\\ncheckpointer = ModelCheckpoint(filepath='augtest/aug_model.weights.best.hdf5', verbose=1, \\n                               save_best_only=True)\\nmodel.fit_generator(datagen_train.flow(train_tensors, train_targets, batch_size=batch_size),\\n                    steps_per_epoch=train_tensors.shape[0] // batch_size,\\n                    epochs=epochs, verbose=2, callbacks=[checkpointer],\\n                    validation_data=(valid_tensors, valid_targets),\\n                    validation_steps=valid_tensors.shape[0] // batch_size)\\n                    \""
      ]
     },
     "execution_count": 16,
     "metadata": {},
     "output_type": "execute_result"
    }
   ],
   "source": [
    "'''\n",
    "from keras.preprocessing.image import ImageDataGenerator\n",
    "\n",
    "# create and configure augmented image generator\n",
    "datagen_train = ImageDataGenerator(\n",
    "    width_shift_range=0.1,  # randomly shift images horizontally (10% of total width)\n",
    "    height_shift_range=0.1,  # randomly shift images vertically (10% of total height)\n",
    "    horizontal_flip=True) # randomly flip images horizontally\n",
    "\n",
    "# fit augmented image generator on data\n",
    "datagen_train.fit(train_tensors)\n",
    "\n",
    "from keras.callbacks import ModelCheckpoint   \n",
    "\n",
    "batch_size = 32\n",
    "epochs = 100\n",
    "\n",
    "# train the model\n",
    "checkpointer = ModelCheckpoint(filepath='augtest/aug_model.weights.best.hdf5', verbose=1, \n",
    "                               save_best_only=True)\n",
    "model.fit_generator(datagen_train.flow(train_tensors, train_targets, batch_size=batch_size),\n",
    "                    steps_per_epoch=train_tensors.shape[0] // batch_size,\n",
    "                    epochs=epochs, verbose=2, callbacks=[checkpointer],\n",
    "                    validation_data=(valid_tensors, valid_targets),\n",
    "                    validation_steps=valid_tensors.shape[0] // batch_size)\n",
    "                    '''"
   ]
  },
  {
   "cell_type": "markdown",
   "metadata": {},
   "source": [
    "#### 修改五\n",
    "可以使用keras里的回调函数，就是当你的validation loss开始上升的时候，就马上停止训练，是为了防止过拟合的，参考代码如下：\n",
    "```python\n",
    "  keras.callbacks.ModelCheckpoint(filepath, monitor='val_loss', verbose=0, save_best_only=False, save_weights_only=False, mode='auto', period=1)\n",
    "\n",
    "keras.callbacks.EarlyStopping(monitor='val_loss', patience = 10, verbose = 1)\n",
    "  ```\n",
    "或者你也可以把epoch & model accuracy和epoch & model loss的关系图打印出来，然后找一个比较满意的epoch，参考代码如下：\n",
    "\n",
    "```python\n",
    "    # Fit the model\n",
    "    history = model.fit(X, Y, validation_split=0.33, epochs=150, batch_size=10, verbose=0)\n",
    "    # list all data in history\n",
    "    print(history.history.keys())\n",
    "    # summarize history for accuracy\n",
    "    plt.plot(history.history['acc'])\n",
    "    plt.plot(history.history['val_acc'])\n",
    "    plt.title('model accuracy')\n",
    "    plt.ylabel('accuracy')\n",
    "    plt.xlabel('epoch')\n",
    "    plt.legend(['train', 'test'], loc='upper left')\n",
    "    plt.show()\n",
    "    # summarize history for loss\n",
    "    plt.plot(history.history['loss'])\n",
    "    plt.plot(history.history['val_loss'])\n",
    "    plt.title('model loss')\n",
    "    plt.ylabel('loss')\n",
    "    plt.xlabel('epoch')\n",
    "    plt.legend(['train', 'test'], loc='upper left')\n",
    "    plt.show()\n",
    "```"
   ]
  },
  {
   "cell_type": "code",
   "execution_count": 17,
   "metadata": {},
   "outputs": [
    {
     "name": "stdout",
     "output_type": "stream",
     "text": [
      "Train on 6680 samples, validate on 835 samples\n",
      "Epoch 1/150\n",
      "6660/6680 [============================>.] - ETA: 0s - loss: 4.9177 - acc: 0.0113Epoch 00001: val_loss improved from inf to 4.84975, saving model to saved_models/weights.best.from_scratch.hdf5\n",
      "6680/6680 [==============================] - 129s 19ms/step - loss: 4.9170 - acc: 0.0112 - val_loss: 4.8497 - val_acc: 0.0192\n",
      "Epoch 2/150\n",
      "6660/6680 [============================>.] - ETA: 0s - loss: 4.7611 - acc: 0.0218Epoch 00002: val_loss improved from 4.84975 to 4.72746, saving model to saved_models/weights.best.from_scratch.hdf5\n",
      "6680/6680 [==============================] - 127s 19ms/step - loss: 4.7606 - acc: 0.0219 - val_loss: 4.7275 - val_acc: 0.0228\n",
      "Epoch 3/150\n",
      "6660/6680 [============================>.] - ETA: 0s - loss: 4.6510 - acc: 0.0299Epoch 00003: val_loss improved from 4.72746 to 4.67244, saving model to saved_models/weights.best.from_scratch.hdf5\n",
      "6680/6680 [==============================] - 127s 19ms/step - loss: 4.6505 - acc: 0.0298 - val_loss: 4.6724 - val_acc: 0.0263\n",
      "Epoch 4/150\n",
      "6660/6680 [============================>.] - ETA: 0s - loss: 4.5585 - acc: 0.0377Epoch 00004: val_loss improved from 4.67244 to 4.57042, saving model to saved_models/weights.best.from_scratch.hdf5\n",
      "6680/6680 [==============================] - 127s 19ms/step - loss: 4.5585 - acc: 0.0377 - val_loss: 4.5704 - val_acc: 0.0419\n",
      "Epoch 5/150\n",
      "6660/6680 [============================>.] - ETA: 0s - loss: 4.4684 - acc: 0.0470Epoch 00005: val_loss improved from 4.57042 to 4.52951, saving model to saved_models/weights.best.from_scratch.hdf5\n",
      "6680/6680 [==============================] - 127s 19ms/step - loss: 4.4677 - acc: 0.0470 - val_loss: 4.5295 - val_acc: 0.0419\n",
      "Epoch 6/150\n",
      "6660/6680 [============================>.] - ETA: 0s - loss: 4.3799 - acc: 0.0557Epoch 00006: val_loss improved from 4.52951 to 4.46281, saving model to saved_models/weights.best.from_scratch.hdf5\n",
      "6680/6680 [==============================] - 127s 19ms/step - loss: 4.3795 - acc: 0.0555 - val_loss: 4.4628 - val_acc: 0.0563\n",
      "Epoch 7/150\n",
      "6660/6680 [============================>.] - ETA: 0s - loss: 4.3101 - acc: 0.0598Epoch 00007: val_loss improved from 4.46281 to 4.43150, saving model to saved_models/weights.best.from_scratch.hdf5\n",
      "6680/6680 [==============================] - 127s 19ms/step - loss: 4.3105 - acc: 0.0596 - val_loss: 4.4315 - val_acc: 0.0671\n",
      "Epoch 8/150\n",
      "6660/6680 [============================>.] - ETA: 0s - loss: 4.2552 - acc: 0.0686Epoch 00008: val_loss improved from 4.43150 to 4.34968, saving model to saved_models/weights.best.from_scratch.hdf5\n",
      "6680/6680 [==============================] - 127s 19ms/step - loss: 4.2553 - acc: 0.0689 - val_loss: 4.3497 - val_acc: 0.0635\n",
      "Epoch 9/150\n",
      "6660/6680 [============================>.] - ETA: 0s - loss: 4.1880 - acc: 0.0751Epoch 00009: val_loss improved from 4.34968 to 4.29449, saving model to saved_models/weights.best.from_scratch.hdf5\n",
      "6680/6680 [==============================] - 127s 19ms/step - loss: 4.1882 - acc: 0.0750 - val_loss: 4.2945 - val_acc: 0.0743\n",
      "Epoch 10/150\n",
      "6660/6680 [============================>.] - ETA: 0s - loss: 4.1336 - acc: 0.0778Epoch 00010: val_loss did not improve\n",
      "6680/6680 [==============================] - 127s 19ms/step - loss: 4.1333 - acc: 0.0780 - val_loss: 4.3186 - val_acc: 0.0587\n",
      "Epoch 11/150\n",
      "6660/6680 [============================>.] - ETA: 0s - loss: 4.0804 - acc: 0.0896Epoch 00011: val_loss improved from 4.29449 to 4.28803, saving model to saved_models/weights.best.from_scratch.hdf5\n",
      "6680/6680 [==============================] - 127s 19ms/step - loss: 4.0800 - acc: 0.0894 - val_loss: 4.2880 - val_acc: 0.0659\n",
      "Epoch 12/150\n",
      "6660/6680 [============================>.] - ETA: 0s - loss: 4.0201 - acc: 0.0971Epoch 00012: val_loss improved from 4.28803 to 4.16535, saving model to saved_models/weights.best.from_scratch.hdf5\n",
      "6680/6680 [==============================] - 127s 19ms/step - loss: 4.0223 - acc: 0.0969 - val_loss: 4.1653 - val_acc: 0.0862\n",
      "Epoch 13/150\n",
      "6660/6680 [============================>.] - ETA: 0s - loss: 3.9676 - acc: 0.1044Epoch 00013: val_loss did not improve\n",
      "6680/6680 [==============================] - 127s 19ms/step - loss: 3.9682 - acc: 0.1043 - val_loss: 4.1762 - val_acc: 0.0862\n",
      "Epoch 14/150\n",
      "6660/6680 [============================>.] - ETA: 0s - loss: 3.9161 - acc: 0.1081Epoch 00014: val_loss improved from 4.16535 to 4.14462, saving model to saved_models/weights.best.from_scratch.hdf5\n",
      "6680/6680 [==============================] - 128s 19ms/step - loss: 3.9152 - acc: 0.1084 - val_loss: 4.1446 - val_acc: 0.0838\n",
      "Epoch 15/150\n",
      "6660/6680 [============================>.] - ETA: 0s - loss: 3.8571 - acc: 0.1203Epoch 00015: val_loss did not improve\n",
      "6680/6680 [==============================] - 127s 19ms/step - loss: 3.8571 - acc: 0.1201 - val_loss: 4.1714 - val_acc: 0.0754\n",
      "Epoch 16/150\n",
      "6660/6680 [============================>.] - ETA: 0s - loss: 3.8135 - acc: 0.1216Epoch 00016: val_loss improved from 4.14462 to 4.12908, saving model to saved_models/weights.best.from_scratch.hdf5\n",
      "6680/6680 [==============================] - 127s 19ms/step - loss: 3.8140 - acc: 0.1214 - val_loss: 4.1291 - val_acc: 0.0982\n",
      "Epoch 17/150\n",
      "6660/6680 [============================>.] - ETA: 0s - loss: 3.7497 - acc: 0.1362Epoch 00017: val_loss improved from 4.12908 to 4.06885, saving model to saved_models/weights.best.from_scratch.hdf5\n",
      "6680/6680 [==============================] - 127s 19ms/step - loss: 3.7498 - acc: 0.1361 - val_loss: 4.0688 - val_acc: 0.1018\n",
      "Epoch 18/150\n",
      "6660/6680 [============================>.] - ETA: 0s - loss: 3.6966 - acc: 0.1422Epoch 00018: val_loss improved from 4.06885 to 4.01017, saving model to saved_models/weights.best.from_scratch.hdf5\n",
      "6680/6680 [==============================] - 127s 19ms/step - loss: 3.6973 - acc: 0.1421 - val_loss: 4.0102 - val_acc: 0.1090\n",
      "Epoch 19/150\n",
      "6660/6680 [============================>.] - ETA: 0s - loss: 3.6339 - acc: 0.1596Epoch 00019: val_loss improved from 4.01017 to 3.96231, saving model to saved_models/weights.best.from_scratch.hdf5\n",
      "6680/6680 [==============================] - 127s 19ms/step - loss: 3.6335 - acc: 0.1596 - val_loss: 3.9623 - val_acc: 0.1246\n",
      "Epoch 20/150\n",
      "6660/6680 [============================>.] - ETA: 0s - loss: 3.5796 - acc: 0.1589Epoch 00020: val_loss improved from 3.96231 to 3.94913, saving model to saved_models/weights.best.from_scratch.hdf5\n",
      "6680/6680 [==============================] - 127s 19ms/step - loss: 3.5806 - acc: 0.1588 - val_loss: 3.9491 - val_acc: 0.1114\n",
      "Epoch 21/150\n",
      "6660/6680 [============================>.] - ETA: 0s - loss: 3.5271 - acc: 0.1628Epoch 00021: val_loss improved from 3.94913 to 3.91650, saving model to saved_models/weights.best.from_scratch.hdf5\n",
      "6680/6680 [==============================] - 127s 19ms/step - loss: 3.5264 - acc: 0.1627 - val_loss: 3.9165 - val_acc: 0.1281\n",
      "Epoch 22/150\n",
      "6660/6680 [============================>.] - ETA: 0s - loss: 3.5001 - acc: 0.1704Epoch 00022: val_loss improved from 3.91650 to 3.89513, saving model to saved_models/weights.best.from_scratch.hdf5\n",
      "6680/6680 [==============================] - 128s 19ms/step - loss: 3.5018 - acc: 0.1701 - val_loss: 3.8951 - val_acc: 0.1138\n",
      "Epoch 23/150\n",
      "6660/6680 [============================>.] - ETA: 0s - loss: 3.4310 - acc: 0.1833Epoch 00023: val_loss did not improve\n",
      "6680/6680 [==============================] - 127s 19ms/step - loss: 3.4307 - acc: 0.1832 - val_loss: 3.9264 - val_acc: 0.1246\n",
      "Epoch 24/150\n",
      "6660/6680 [============================>.] - ETA: 0s - loss: 3.4030 - acc: 0.1896Epoch 00024: val_loss improved from 3.89513 to 3.86702, saving model to saved_models/weights.best.from_scratch.hdf5\n",
      "6680/6680 [==============================] - 127s 19ms/step - loss: 3.4026 - acc: 0.1895 - val_loss: 3.8670 - val_acc: 0.1401\n",
      "Epoch 25/150\n",
      "6660/6680 [============================>.] - ETA: 0s - loss: 3.3536 - acc: 0.2009Epoch 00025: val_loss improved from 3.86702 to 3.85039, saving model to saved_models/weights.best.from_scratch.hdf5\n",
      "6680/6680 [==============================] - 127s 19ms/step - loss: 3.3538 - acc: 0.2009 - val_loss: 3.8504 - val_acc: 0.1281\n",
      "Epoch 26/150\n",
      "6660/6680 [============================>.] - ETA: 0s - loss: 3.3131 - acc: 0.2060Epoch 00026: val_loss improved from 3.85039 to 3.84097, saving model to saved_models/weights.best.from_scratch.hdf5\n",
      "6680/6680 [==============================] - 127s 19ms/step - loss: 3.3120 - acc: 0.2066 - val_loss: 3.8410 - val_acc: 0.1341\n",
      "Epoch 27/150\n",
      "6660/6680 [============================>.] - ETA: 0s - loss: 3.2611 - acc: 0.2191Epoch 00027: val_loss did not improve\n",
      "6680/6680 [==============================] - 127s 19ms/step - loss: 3.2622 - acc: 0.2189 - val_loss: 3.9410 - val_acc: 0.1269\n",
      "Epoch 28/150\n",
      "6660/6680 [============================>.] - ETA: 0s - loss: 3.2187 - acc: 0.2209Epoch 00028: val_loss improved from 3.84097 to 3.83306, saving model to saved_models/weights.best.from_scratch.hdf5\n",
      "6680/6680 [==============================] - 127s 19ms/step - loss: 3.2171 - acc: 0.2211 - val_loss: 3.8331 - val_acc: 0.1557\n",
      "Epoch 29/150\n",
      "6660/6680 [============================>.] - ETA: 0s - loss: 3.1894 - acc: 0.2315Epoch 00029: val_loss improved from 3.83306 to 3.73998, saving model to saved_models/weights.best.from_scratch.hdf5\n",
      "6680/6680 [==============================] - 128s 19ms/step - loss: 3.1917 - acc: 0.2314 - val_loss: 3.7400 - val_acc: 0.1437\n",
      "Epoch 30/150\n",
      "6660/6680 [============================>.] - ETA: 0s - loss: 3.1346 - acc: 0.2404Epoch 00030: val_loss did not improve\n",
      "6680/6680 [==============================] - 127s 19ms/step - loss: 3.1364 - acc: 0.2398 - val_loss: 3.8452 - val_acc: 0.1269\n",
      "Epoch 31/150\n",
      "6660/6680 [============================>.] - ETA: 0s - loss: 3.1155 - acc: 0.2471Epoch 00031: val_loss did not improve\n",
      "6680/6680 [==============================] - 128s 19ms/step - loss: 3.1133 - acc: 0.2478 - val_loss: 3.7757 - val_acc: 0.1425\n",
      "Epoch 32/150\n",
      "6660/6680 [============================>.] - ETA: 0s - loss: 3.0712 - acc: 0.2512Epoch 00032: val_loss did not improve\n",
      "6680/6680 [==============================] - 128s 19ms/step - loss: 3.0705 - acc: 0.2516 - val_loss: 3.7958 - val_acc: 0.1353\n",
      "Epoch 33/150\n",
      "6660/6680 [============================>.] - ETA: 0s - loss: 3.0380 - acc: 0.2544Epoch 00033: val_loss did not improve\n",
      "6680/6680 [==============================] - 127s 19ms/step - loss: 3.0373 - acc: 0.2545 - val_loss: 3.8627 - val_acc: 0.1222\n",
      "Epoch 34/150\n",
      "6660/6680 [============================>.] - ETA: 0s - loss: 3.0013 - acc: 0.2634Epoch 00034: val_loss improved from 3.73998 to 3.65772, saving model to saved_models/weights.best.from_scratch.hdf5\n",
      "6680/6680 [==============================] - 127s 19ms/step - loss: 3.0012 - acc: 0.2638 - val_loss: 3.6577 - val_acc: 0.1725\n",
      "Epoch 35/150\n",
      "6660/6680 [============================>.] - ETA: 0s - loss: 2.9644 - acc: 0.2745Epoch 00035: val_loss improved from 3.65772 to 3.61656, saving model to saved_models/weights.best.from_scratch.hdf5\n",
      "6680/6680 [==============================] - 127s 19ms/step - loss: 2.9646 - acc: 0.2741 - val_loss: 3.6166 - val_acc: 0.1725\n",
      "Epoch 36/150\n",
      "6660/6680 [============================>.] - ETA: 0s - loss: 2.9301 - acc: 0.2821Epoch 00036: val_loss did not improve\n",
      "6680/6680 [==============================] - 127s 19ms/step - loss: 2.9312 - acc: 0.2817 - val_loss: 3.6807 - val_acc: 0.1701\n",
      "Epoch 37/150\n",
      "6660/6680 [============================>.] - ETA: 0s - loss: 2.9067 - acc: 0.2814Epoch 00037: val_loss did not improve\n",
      "6680/6680 [==============================] - 127s 19ms/step - loss: 2.9053 - acc: 0.2819 - val_loss: 3.7662 - val_acc: 0.1461\n",
      "Epoch 38/150\n",
      "6660/6680 [============================>.] - ETA: 0s - loss: 2.8566 - acc: 0.3030Epoch 00038: val_loss did not improve\n",
      "6680/6680 [==============================] - 127s 19ms/step - loss: 2.8583 - acc: 0.3025 - val_loss: 3.7924 - val_acc: 0.1389\n",
      "Epoch 39/150\n",
      "6660/6680 [============================>.] - ETA: 0s - loss: 2.8410 - acc: 0.2983Epoch 00039: val_loss did not improve\n",
      "6680/6680 [==============================] - 127s 19ms/step - loss: 2.8412 - acc: 0.2985 - val_loss: 3.6768 - val_acc: 0.1569\n",
      "Epoch 40/150\n",
      "6660/6680 [============================>.] - ETA: 0s - loss: 2.8081 - acc: 0.3017Epoch 00040: val_loss did not improve\n",
      "6680/6680 [==============================] - 127s 19ms/step - loss: 2.8077 - acc: 0.3019 - val_loss: 3.7825 - val_acc: 0.1437\n",
      "Epoch 41/150\n",
      "6660/6680 [============================>.] - ETA: 0s - loss: 2.7736 - acc: 0.3095Epoch 00041: val_loss did not improve\n",
      "6680/6680 [==============================] - 127s 19ms/step - loss: 2.7745 - acc: 0.3091 - val_loss: 3.6951 - val_acc: 0.1593\n",
      "Epoch 42/150\n",
      "6660/6680 [============================>.] - ETA: 0s - loss: 2.7482 - acc: 0.3176Epoch 00042: val_loss improved from 3.61656 to 3.60919, saving model to saved_models/weights.best.from_scratch.hdf5\n",
      "6680/6680 [==============================] - 127s 19ms/step - loss: 2.7479 - acc: 0.3177 - val_loss: 3.6092 - val_acc: 0.1904\n",
      "Epoch 43/150\n",
      "6660/6680 [============================>.] - ETA: 0s - loss: 2.7068 - acc: 0.3204Epoch 00043: val_loss did not improve\n",
      "6680/6680 [==============================] - 127s 19ms/step - loss: 2.7053 - acc: 0.3205 - val_loss: 3.6938 - val_acc: 0.1868\n",
      "Epoch 44/150\n",
      "6660/6680 [============================>.] - ETA: 0s - loss: 2.6999 - acc: 0.3239Epoch 00044: val_loss did not improve\n",
      "6680/6680 [==============================] - 127s 19ms/step - loss: 2.6998 - acc: 0.3243 - val_loss: 3.6535 - val_acc: 0.1725\n",
      "Epoch 45/150\n",
      "6660/6680 [============================>.] - ETA: 0s - loss: 2.6651 - acc: 0.3312Epoch 00045: val_loss did not improve\n",
      "6680/6680 [==============================] - 127s 19ms/step - loss: 2.6651 - acc: 0.3313 - val_loss: 3.7745 - val_acc: 0.1473\n",
      "Epoch 46/150\n",
      "6660/6680 [============================>.] - ETA: 0s - loss: 2.6228 - acc: 0.3378Epoch 00046: val_loss did not improve\n",
      "6680/6680 [==============================] - 127s 19ms/step - loss: 2.6235 - acc: 0.3374 - val_loss: 3.6806 - val_acc: 0.1713\n",
      "Epoch 47/150\n",
      "6660/6680 [============================>.] - ETA: 0s - loss: 2.6089 - acc: 0.3428Epoch 00047: val_loss did not improve\n",
      "6680/6680 [==============================] - 127s 19ms/step - loss: 2.6084 - acc: 0.3430 - val_loss: 3.6877 - val_acc: 0.1641\n",
      "Epoch 48/150\n",
      "6660/6680 [============================>.] - ETA: 0s - loss: 2.5961 - acc: 0.3438Epoch 00048: val_loss did not improve\n",
      "6680/6680 [==============================] - 127s 19ms/step - loss: 2.5945 - acc: 0.3439 - val_loss: 3.6678 - val_acc: 0.1760\n",
      "Epoch 49/150\n",
      "6660/6680 [============================>.] - ETA: 0s - loss: 2.5738 - acc: 0.3506Epoch 00049: val_loss improved from 3.60919 to 3.60302, saving model to saved_models/weights.best.from_scratch.hdf5\n",
      "6680/6680 [==============================] - 127s 19ms/step - loss: 2.5737 - acc: 0.3509 - val_loss: 3.6030 - val_acc: 0.1892\n",
      "Epoch 50/150\n",
      "6660/6680 [============================>.] - ETA: 0s - loss: 2.5403 - acc: 0.3614Epoch 00050: val_loss did not improve\n",
      "6680/6680 [==============================] - 127s 19ms/step - loss: 2.5412 - acc: 0.3611 - val_loss: 3.6120 - val_acc: 0.1820\n",
      "Epoch 51/150\n",
      "6660/6680 [============================>.] - ETA: 0s - loss: 2.5215 - acc: 0.3665Epoch 00051: val_loss did not improve\n",
      "6680/6680 [==============================] - 127s 19ms/step - loss: 2.5207 - acc: 0.3668 - val_loss: 3.6348 - val_acc: 0.1749\n",
      "Epoch 52/150\n",
      "6660/6680 [============================>.] - ETA: 0s - loss: 2.5214 - acc: 0.3574Epoch 00052: val_loss improved from 3.60302 to 3.58187, saving model to saved_models/weights.best.from_scratch.hdf5\n",
      "6680/6680 [==============================] - 127s 19ms/step - loss: 2.5216 - acc: 0.3572 - val_loss: 3.5819 - val_acc: 0.1737\n",
      "Epoch 53/150\n",
      "6660/6680 [============================>.] - ETA: 0s - loss: 2.4858 - acc: 0.3667Epoch 00053: val_loss improved from 3.58187 to 3.58022, saving model to saved_models/weights.best.from_scratch.hdf5\n",
      "6680/6680 [==============================] - 127s 19ms/step - loss: 2.4860 - acc: 0.3668 - val_loss: 3.5802 - val_acc: 0.1976\n",
      "Epoch 54/150\n",
      "6660/6680 [============================>.] - ETA: 0s - loss: 2.4517 - acc: 0.3748Epoch 00054: val_loss improved from 3.58022 to 3.56530, saving model to saved_models/weights.best.from_scratch.hdf5\n",
      "6680/6680 [==============================] - 128s 19ms/step - loss: 2.4513 - acc: 0.3744 - val_loss: 3.5653 - val_acc: 0.1772\n"
     ]
    },
    {
     "name": "stdout",
     "output_type": "stream",
     "text": [
      "Epoch 55/150\n",
      "6660/6680 [============================>.] - ETA: 0s - loss: 2.4324 - acc: 0.3817Epoch 00055: val_loss improved from 3.56530 to 3.56468, saving model to saved_models/weights.best.from_scratch.hdf5\n",
      "6680/6680 [==============================] - 127s 19ms/step - loss: 2.4318 - acc: 0.3817 - val_loss: 3.5647 - val_acc: 0.1916\n",
      "Epoch 56/150\n",
      "6660/6680 [============================>.] - ETA: 0s - loss: 2.4081 - acc: 0.3842Epoch 00056: val_loss did not improve\n",
      "6680/6680 [==============================] - 127s 19ms/step - loss: 2.4076 - acc: 0.3847 - val_loss: 3.5869 - val_acc: 0.1964\n",
      "Epoch 57/150\n",
      "6660/6680 [============================>.] - ETA: 0s - loss: 2.3985 - acc: 0.3833Epoch 00057: val_loss did not improve\n",
      "6680/6680 [==============================] - 127s 19ms/step - loss: 2.3973 - acc: 0.3838 - val_loss: 3.5987 - val_acc: 0.1904\n",
      "Epoch 58/150\n",
      "6660/6680 [============================>.] - ETA: 0s - loss: 2.3722 - acc: 0.3926Epoch 00058: val_loss did not improve\n",
      "6680/6680 [==============================] - 127s 19ms/step - loss: 2.3718 - acc: 0.3925 - val_loss: 3.5840 - val_acc: 0.1796\n",
      "Epoch 59/150\n",
      "6660/6680 [============================>.] - ETA: 0s - loss: 2.3530 - acc: 0.3937Epoch 00059: val_loss did not improve\n",
      "6680/6680 [==============================] - 127s 19ms/step - loss: 2.3510 - acc: 0.3946 - val_loss: 3.5821 - val_acc: 0.1916\n",
      "Epoch 60/150\n",
      "6660/6680 [============================>.] - ETA: 0s - loss: 2.3278 - acc: 0.4014Epoch 00060: val_loss did not improve\n",
      "6680/6680 [==============================] - 127s 19ms/step - loss: 2.3279 - acc: 0.4015 - val_loss: 3.5940 - val_acc: 0.1928\n",
      "Epoch 61/150\n",
      "6660/6680 [============================>.] - ETA: 0s - loss: 2.3422 - acc: 0.3844Epoch 00061: val_loss did not improve\n",
      "6680/6680 [==============================] - 127s 19ms/step - loss: 2.3405 - acc: 0.3849 - val_loss: 3.5664 - val_acc: 0.1796\n",
      "Epoch 62/150\n",
      "6660/6680 [============================>.] - ETA: 0s - loss: 2.2941 - acc: 0.4078Epoch 00062: val_loss did not improve\n",
      "6680/6680 [==============================] - 127s 19ms/step - loss: 2.2939 - acc: 0.4075 - val_loss: 3.5923 - val_acc: 0.1796\n",
      "Epoch 63/150\n",
      "6660/6680 [============================>.] - ETA: 0s - loss: 2.2738 - acc: 0.4110Epoch 00063: val_loss improved from 3.56468 to 3.51212, saving model to saved_models/weights.best.from_scratch.hdf5\n",
      "6680/6680 [==============================] - 128s 19ms/step - loss: 2.2732 - acc: 0.4114 - val_loss: 3.5121 - val_acc: 0.1940\n",
      "Epoch 64/150\n",
      "6660/6680 [============================>.] - ETA: 0s - loss: 2.2738 - acc: 0.4126Epoch 00064: val_loss did not improve\n",
      "6680/6680 [==============================] - 127s 19ms/step - loss: 2.2732 - acc: 0.4129 - val_loss: 3.5735 - val_acc: 0.1689\n",
      "Epoch 65/150\n",
      "6660/6680 [============================>.] - ETA: 0s - loss: 2.2547 - acc: 0.4183Epoch 00065: val_loss did not improve\n",
      "6680/6680 [==============================] - 127s 19ms/step - loss: 2.2552 - acc: 0.4180 - val_loss: 3.8919 - val_acc: 0.1701\n",
      "Epoch 66/150\n",
      "6660/6680 [============================>.] - ETA: 0s - loss: 2.2214 - acc: 0.4125Epoch 00066: val_loss did not improve\n",
      "6680/6680 [==============================] - 127s 19ms/step - loss: 2.2213 - acc: 0.4127 - val_loss: 3.6169 - val_acc: 0.1772\n",
      "Epoch 67/150\n",
      "6660/6680 [============================>.] - ETA: 0s - loss: 2.2110 - acc: 0.4231Epoch 00067: val_loss did not improve\n",
      "6680/6680 [==============================] - 127s 19ms/step - loss: 2.2125 - acc: 0.4226 - val_loss: 3.6697 - val_acc: 0.1713\n",
      "Epoch 68/150\n",
      "6660/6680 [============================>.] - ETA: 0s - loss: 2.1779 - acc: 0.4285Epoch 00068: val_loss did not improve\n",
      "6680/6680 [==============================] - 127s 19ms/step - loss: 2.1790 - acc: 0.4281 - val_loss: 3.6296 - val_acc: 0.1760\n",
      "Epoch 69/150\n",
      "6660/6680 [============================>.] - ETA: 0s - loss: 2.1785 - acc: 0.4321Epoch 00069: val_loss did not improve\n",
      "6680/6680 [==============================] - 127s 19ms/step - loss: 2.1778 - acc: 0.4320 - val_loss: 3.5820 - val_acc: 0.1940\n",
      "Epoch 70/150\n",
      "6660/6680 [============================>.] - ETA: 0s - loss: 2.1604 - acc: 0.4366Epoch 00070: val_loss did not improve\n",
      "6680/6680 [==============================] - 127s 19ms/step - loss: 2.1625 - acc: 0.4362 - val_loss: 3.7057 - val_acc: 0.1832\n",
      "Epoch 71/150\n",
      "6660/6680 [============================>.] - ETA: 0s - loss: 2.1442 - acc: 0.4326Epoch 00071: val_loss did not improve\n",
      "6680/6680 [==============================] - 127s 19ms/step - loss: 2.1452 - acc: 0.4322 - val_loss: 3.6260 - val_acc: 0.1976\n",
      "Epoch 72/150\n",
      "6660/6680 [============================>.] - ETA: 0s - loss: 2.1324 - acc: 0.4363Epoch 00072: val_loss improved from 3.51212 to 3.50859, saving model to saved_models/weights.best.from_scratch.hdf5\n",
      "6680/6680 [==============================] - 127s 19ms/step - loss: 2.1319 - acc: 0.4367 - val_loss: 3.5086 - val_acc: 0.2048\n",
      "Epoch 73/150\n",
      "6660/6680 [============================>.] - ETA: 0s - loss: 2.1415 - acc: 0.4353Epoch 00073: val_loss did not improve\n",
      "6680/6680 [==============================] - 128s 19ms/step - loss: 2.1414 - acc: 0.4353 - val_loss: 3.5653 - val_acc: 0.2048\n",
      "Epoch 74/150\n",
      "6660/6680 [============================>.] - ETA: 0s - loss: 2.0964 - acc: 0.4443Epoch 00074: val_loss did not improve\n",
      "6680/6680 [==============================] - 127s 19ms/step - loss: 2.0968 - acc: 0.4443 - val_loss: 3.5581 - val_acc: 0.1988\n",
      "Epoch 75/150\n",
      "6660/6680 [============================>.] - ETA: 0s - loss: 2.1066 - acc: 0.4470Epoch 00075: val_loss did not improve\n",
      "6680/6680 [==============================] - 128s 19ms/step - loss: 2.1078 - acc: 0.4464 - val_loss: 3.5512 - val_acc: 0.1940\n",
      "Epoch 76/150\n",
      "6660/6680 [============================>.] - ETA: 0s - loss: 2.0692 - acc: 0.4517Epoch 00076: val_loss did not improve\n",
      "6680/6680 [==============================] - 127s 19ms/step - loss: 2.0691 - acc: 0.4512 - val_loss: 3.5659 - val_acc: 0.2048\n",
      "Epoch 77/150\n",
      "6660/6680 [============================>.] - ETA: 0s - loss: 2.0517 - acc: 0.4530Epoch 00077: val_loss did not improve\n",
      "6680/6680 [==============================] - 127s 19ms/step - loss: 2.0528 - acc: 0.4530 - val_loss: 3.5537 - val_acc: 0.2024\n",
      "Epoch 78/150\n",
      "6660/6680 [============================>.] - ETA: 0s - loss: 2.0430 - acc: 0.4554Epoch 00078: val_loss did not improve\n",
      "6680/6680 [==============================] - 127s 19ms/step - loss: 2.0450 - acc: 0.4551 - val_loss: 3.7270 - val_acc: 0.1904\n",
      "Epoch 79/150\n",
      "6660/6680 [============================>.] - ETA: 0s - loss: 2.0260 - acc: 0.4623Epoch 00079: val_loss did not improve\n",
      "6680/6680 [==============================] - 127s 19ms/step - loss: 2.0257 - acc: 0.4626 - val_loss: 3.6167 - val_acc: 0.2012\n",
      "Epoch 80/150\n",
      "6660/6680 [============================>.] - ETA: 0s - loss: 2.0264 - acc: 0.4631Epoch 00080: val_loss did not improve\n",
      "6680/6680 [==============================] - 127s 19ms/step - loss: 2.0252 - acc: 0.4632 - val_loss: 3.7423 - val_acc: 0.1916\n",
      "Epoch 81/150\n",
      "6660/6680 [============================>.] - ETA: 0s - loss: 2.0169 - acc: 0.4628Epoch 00081: val_loss did not improve\n",
      "6680/6680 [==============================] - 128s 19ms/step - loss: 2.0162 - acc: 0.4632 - val_loss: 3.6106 - val_acc: 0.1928\n",
      "Epoch 82/150\n",
      "6660/6680 [============================>.] - ETA: 0s - loss: 1.9687 - acc: 0.4677Epoch 00082: val_loss did not improve\n",
      "6680/6680 [==============================] - 127s 19ms/step - loss: 1.9679 - acc: 0.4677 - val_loss: 3.6999 - val_acc: 0.1880\n",
      "Epoch 83/150\n",
      "6660/6680 [============================>.] - ETA: 0s - loss: 1.9831 - acc: 0.4662Epoch 00083: val_loss did not improve\n",
      "6680/6680 [==============================] - 127s 19ms/step - loss: 1.9840 - acc: 0.4665 - val_loss: 3.6393 - val_acc: 0.1940\n",
      "Epoch 84/150\n",
      "6660/6680 [============================>.] - ETA: 0s - loss: 1.9761 - acc: 0.4688Epoch 00084: val_loss did not improve\n",
      "6680/6680 [==============================] - 127s 19ms/step - loss: 1.9753 - acc: 0.4687 - val_loss: 3.7412 - val_acc: 0.1713\n",
      "Epoch 85/150\n",
      "6660/6680 [============================>.] - ETA: 0s - loss: 1.9858 - acc: 0.4625Epoch 00085: val_loss did not improve\n",
      "6680/6680 [==============================] - 127s 19ms/step - loss: 1.9850 - acc: 0.4626 - val_loss: 3.7343 - val_acc: 0.2216\n"
     ]
    },
    {
     "name": "stdout",
     "output_type": "stream",
     "text": [
      "Epoch 86/150\n",
      " 520/6680 [=>............................] - ETA: 1:49 - loss: 1.8565 - acc: 0.5038"
     ]
    },
    {
     "ename": "KeyboardInterrupt",
     "evalue": "",
     "output_type": "error",
     "traceback": [
      "\u001b[0;31m---------------------------------------------------------------------------\u001b[0m",
      "\u001b[0;31mKeyboardInterrupt\u001b[0m                         Traceback (most recent call last)",
      "\u001b[0;32m<ipython-input-17-c6616f2ce06a>\u001b[0m in \u001b[0;36m<module>\u001b[0;34m()\u001b[0m\n\u001b[1;32m     11\u001b[0m model.fit(train_tensors, train_targets, \n\u001b[1;32m     12\u001b[0m           \u001b[0mvalidation_data\u001b[0m\u001b[0;34m=\u001b[0m\u001b[0;34m(\u001b[0m\u001b[0mvalid_tensors\u001b[0m\u001b[0;34m,\u001b[0m \u001b[0mvalid_targets\u001b[0m\u001b[0;34m)\u001b[0m\u001b[0;34m,\u001b[0m\u001b[0;34m\u001b[0m\u001b[0m\n\u001b[0;32m---> 13\u001b[0;31m           epochs=epochs, batch_size=20, callbacks=[checkpointer], verbose=1)\n\u001b[0m",
      "\u001b[0;32m/opt/conda/lib/python3.6/site-packages/keras/models.py\u001b[0m in \u001b[0;36mfit\u001b[0;34m(self, x, y, batch_size, epochs, verbose, callbacks, validation_split, validation_data, shuffle, class_weight, sample_weight, initial_epoch, **kwargs)\u001b[0m\n\u001b[1;32m    891\u001b[0m                               \u001b[0mclass_weight\u001b[0m\u001b[0;34m=\u001b[0m\u001b[0mclass_weight\u001b[0m\u001b[0;34m,\u001b[0m\u001b[0;34m\u001b[0m\u001b[0m\n\u001b[1;32m    892\u001b[0m                               \u001b[0msample_weight\u001b[0m\u001b[0;34m=\u001b[0m\u001b[0msample_weight\u001b[0m\u001b[0;34m,\u001b[0m\u001b[0;34m\u001b[0m\u001b[0m\n\u001b[0;32m--> 893\u001b[0;31m                               initial_epoch=initial_epoch)\n\u001b[0m\u001b[1;32m    894\u001b[0m \u001b[0;34m\u001b[0m\u001b[0m\n\u001b[1;32m    895\u001b[0m     def evaluate(self, x, y, batch_size=32, verbose=1,\n",
      "\u001b[0;32m/opt/conda/lib/python3.6/site-packages/keras/engine/training.py\u001b[0m in \u001b[0;36mfit\u001b[0;34m(self, x, y, batch_size, epochs, verbose, callbacks, validation_split, validation_data, shuffle, class_weight, sample_weight, initial_epoch, steps_per_epoch, validation_steps, **kwargs)\u001b[0m\n\u001b[1;32m   1629\u001b[0m                               \u001b[0minitial_epoch\u001b[0m\u001b[0;34m=\u001b[0m\u001b[0minitial_epoch\u001b[0m\u001b[0;34m,\u001b[0m\u001b[0;34m\u001b[0m\u001b[0m\n\u001b[1;32m   1630\u001b[0m                               \u001b[0msteps_per_epoch\u001b[0m\u001b[0;34m=\u001b[0m\u001b[0msteps_per_epoch\u001b[0m\u001b[0;34m,\u001b[0m\u001b[0;34m\u001b[0m\u001b[0m\n\u001b[0;32m-> 1631\u001b[0;31m                               validation_steps=validation_steps)\n\u001b[0m\u001b[1;32m   1632\u001b[0m \u001b[0;34m\u001b[0m\u001b[0m\n\u001b[1;32m   1633\u001b[0m     def evaluate(self, x=None, y=None,\n",
      "\u001b[0;32m/opt/conda/lib/python3.6/site-packages/keras/engine/training.py\u001b[0m in \u001b[0;36m_fit_loop\u001b[0;34m(self, f, ins, out_labels, batch_size, epochs, verbose, callbacks, val_f, val_ins, shuffle, callback_metrics, initial_epoch, steps_per_epoch, validation_steps)\u001b[0m\n\u001b[1;32m   1211\u001b[0m                     \u001b[0mbatch_logs\u001b[0m\u001b[0;34m[\u001b[0m\u001b[0;34m'size'\u001b[0m\u001b[0;34m]\u001b[0m \u001b[0;34m=\u001b[0m \u001b[0mlen\u001b[0m\u001b[0;34m(\u001b[0m\u001b[0mbatch_ids\u001b[0m\u001b[0;34m)\u001b[0m\u001b[0;34m\u001b[0m\u001b[0m\n\u001b[1;32m   1212\u001b[0m                     \u001b[0mcallbacks\u001b[0m\u001b[0;34m.\u001b[0m\u001b[0mon_batch_begin\u001b[0m\u001b[0;34m(\u001b[0m\u001b[0mbatch_index\u001b[0m\u001b[0;34m,\u001b[0m \u001b[0mbatch_logs\u001b[0m\u001b[0;34m)\u001b[0m\u001b[0;34m\u001b[0m\u001b[0m\n\u001b[0;32m-> 1213\u001b[0;31m                     \u001b[0mouts\u001b[0m \u001b[0;34m=\u001b[0m \u001b[0mf\u001b[0m\u001b[0;34m(\u001b[0m\u001b[0mins_batch\u001b[0m\u001b[0;34m)\u001b[0m\u001b[0;34m\u001b[0m\u001b[0m\n\u001b[0m\u001b[1;32m   1214\u001b[0m                     \u001b[0;32mif\u001b[0m \u001b[0;32mnot\u001b[0m \u001b[0misinstance\u001b[0m\u001b[0;34m(\u001b[0m\u001b[0mouts\u001b[0m\u001b[0;34m,\u001b[0m \u001b[0mlist\u001b[0m\u001b[0;34m)\u001b[0m\u001b[0;34m:\u001b[0m\u001b[0;34m\u001b[0m\u001b[0m\n\u001b[1;32m   1215\u001b[0m                         \u001b[0mouts\u001b[0m \u001b[0;34m=\u001b[0m \u001b[0;34m[\u001b[0m\u001b[0mouts\u001b[0m\u001b[0;34m]\u001b[0m\u001b[0;34m\u001b[0m\u001b[0m\n",
      "\u001b[0;32m/opt/conda/lib/python3.6/site-packages/keras/backend/tensorflow_backend.py\u001b[0m in \u001b[0;36m__call__\u001b[0;34m(self, inputs)\u001b[0m\n\u001b[1;32m   2330\u001b[0m         updated = session.run(self.outputs + [self.updates_op],\n\u001b[1;32m   2331\u001b[0m                               \u001b[0mfeed_dict\u001b[0m\u001b[0;34m=\u001b[0m\u001b[0mfeed_dict\u001b[0m\u001b[0;34m,\u001b[0m\u001b[0;34m\u001b[0m\u001b[0m\n\u001b[0;32m-> 2332\u001b[0;31m                               **self.session_kwargs)\n\u001b[0m\u001b[1;32m   2333\u001b[0m         \u001b[0;32mreturn\u001b[0m \u001b[0mupdated\u001b[0m\u001b[0;34m[\u001b[0m\u001b[0;34m:\u001b[0m\u001b[0mlen\u001b[0m\u001b[0;34m(\u001b[0m\u001b[0mself\u001b[0m\u001b[0;34m.\u001b[0m\u001b[0moutputs\u001b[0m\u001b[0;34m)\u001b[0m\u001b[0;34m]\u001b[0m\u001b[0;34m\u001b[0m\u001b[0m\n\u001b[1;32m   2334\u001b[0m \u001b[0;34m\u001b[0m\u001b[0m\n",
      "\u001b[0;32m/opt/conda/lib/python3.6/site-packages/tensorflow/python/client/session.py\u001b[0m in \u001b[0;36mrun\u001b[0;34m(self, fetches, feed_dict, options, run_metadata)\u001b[0m\n\u001b[1;32m    893\u001b[0m     \u001b[0;32mtry\u001b[0m\u001b[0;34m:\u001b[0m\u001b[0;34m\u001b[0m\u001b[0m\n\u001b[1;32m    894\u001b[0m       result = self._run(None, fetches, feed_dict, options_ptr,\n\u001b[0;32m--> 895\u001b[0;31m                          run_metadata_ptr)\n\u001b[0m\u001b[1;32m    896\u001b[0m       \u001b[0;32mif\u001b[0m \u001b[0mrun_metadata\u001b[0m\u001b[0;34m:\u001b[0m\u001b[0;34m\u001b[0m\u001b[0m\n\u001b[1;32m    897\u001b[0m         \u001b[0mproto_data\u001b[0m \u001b[0;34m=\u001b[0m \u001b[0mtf_session\u001b[0m\u001b[0;34m.\u001b[0m\u001b[0mTF_GetBuffer\u001b[0m\u001b[0;34m(\u001b[0m\u001b[0mrun_metadata_ptr\u001b[0m\u001b[0;34m)\u001b[0m\u001b[0;34m\u001b[0m\u001b[0m\n",
      "\u001b[0;32m/opt/conda/lib/python3.6/site-packages/tensorflow/python/client/session.py\u001b[0m in \u001b[0;36m_run\u001b[0;34m(self, handle, fetches, feed_dict, options, run_metadata)\u001b[0m\n\u001b[1;32m   1122\u001b[0m     \u001b[0;32mif\u001b[0m \u001b[0mfinal_fetches\u001b[0m \u001b[0;32mor\u001b[0m \u001b[0mfinal_targets\u001b[0m \u001b[0;32mor\u001b[0m \u001b[0;34m(\u001b[0m\u001b[0mhandle\u001b[0m \u001b[0;32mand\u001b[0m \u001b[0mfeed_dict_tensor\u001b[0m\u001b[0;34m)\u001b[0m\u001b[0;34m:\u001b[0m\u001b[0;34m\u001b[0m\u001b[0m\n\u001b[1;32m   1123\u001b[0m       results = self._do_run(handle, final_targets, final_fetches,\n\u001b[0;32m-> 1124\u001b[0;31m                              feed_dict_tensor, options, run_metadata)\n\u001b[0m\u001b[1;32m   1125\u001b[0m     \u001b[0;32melse\u001b[0m\u001b[0;34m:\u001b[0m\u001b[0;34m\u001b[0m\u001b[0m\n\u001b[1;32m   1126\u001b[0m       \u001b[0mresults\u001b[0m \u001b[0;34m=\u001b[0m \u001b[0;34m[\u001b[0m\u001b[0;34m]\u001b[0m\u001b[0;34m\u001b[0m\u001b[0m\n",
      "\u001b[0;32m/opt/conda/lib/python3.6/site-packages/tensorflow/python/client/session.py\u001b[0m in \u001b[0;36m_do_run\u001b[0;34m(self, handle, target_list, fetch_list, feed_dict, options, run_metadata)\u001b[0m\n\u001b[1;32m   1319\u001b[0m     \u001b[0;32mif\u001b[0m \u001b[0mhandle\u001b[0m \u001b[0;32mis\u001b[0m \u001b[0;32mNone\u001b[0m\u001b[0;34m:\u001b[0m\u001b[0;34m\u001b[0m\u001b[0m\n\u001b[1;32m   1320\u001b[0m       return self._do_call(_run_fn, self._session, feeds, fetches, targets,\n\u001b[0;32m-> 1321\u001b[0;31m                            options, run_metadata)\n\u001b[0m\u001b[1;32m   1322\u001b[0m     \u001b[0;32melse\u001b[0m\u001b[0;34m:\u001b[0m\u001b[0;34m\u001b[0m\u001b[0m\n\u001b[1;32m   1323\u001b[0m       \u001b[0;32mreturn\u001b[0m \u001b[0mself\u001b[0m\u001b[0;34m.\u001b[0m\u001b[0m_do_call\u001b[0m\u001b[0;34m(\u001b[0m\u001b[0m_prun_fn\u001b[0m\u001b[0;34m,\u001b[0m \u001b[0mself\u001b[0m\u001b[0;34m.\u001b[0m\u001b[0m_session\u001b[0m\u001b[0;34m,\u001b[0m \u001b[0mhandle\u001b[0m\u001b[0;34m,\u001b[0m \u001b[0mfeeds\u001b[0m\u001b[0;34m,\u001b[0m \u001b[0mfetches\u001b[0m\u001b[0;34m)\u001b[0m\u001b[0;34m\u001b[0m\u001b[0m\n",
      "\u001b[0;32m/opt/conda/lib/python3.6/site-packages/tensorflow/python/client/session.py\u001b[0m in \u001b[0;36m_do_call\u001b[0;34m(self, fn, *args)\u001b[0m\n\u001b[1;32m   1325\u001b[0m   \u001b[0;32mdef\u001b[0m \u001b[0m_do_call\u001b[0m\u001b[0;34m(\u001b[0m\u001b[0mself\u001b[0m\u001b[0;34m,\u001b[0m \u001b[0mfn\u001b[0m\u001b[0;34m,\u001b[0m \u001b[0;34m*\u001b[0m\u001b[0margs\u001b[0m\u001b[0;34m)\u001b[0m\u001b[0;34m:\u001b[0m\u001b[0;34m\u001b[0m\u001b[0m\n\u001b[1;32m   1326\u001b[0m     \u001b[0;32mtry\u001b[0m\u001b[0;34m:\u001b[0m\u001b[0;34m\u001b[0m\u001b[0m\n\u001b[0;32m-> 1327\u001b[0;31m       \u001b[0;32mreturn\u001b[0m \u001b[0mfn\u001b[0m\u001b[0;34m(\u001b[0m\u001b[0;34m*\u001b[0m\u001b[0margs\u001b[0m\u001b[0;34m)\u001b[0m\u001b[0;34m\u001b[0m\u001b[0m\n\u001b[0m\u001b[1;32m   1328\u001b[0m     \u001b[0;32mexcept\u001b[0m \u001b[0merrors\u001b[0m\u001b[0;34m.\u001b[0m\u001b[0mOpError\u001b[0m \u001b[0;32mas\u001b[0m \u001b[0me\u001b[0m\u001b[0;34m:\u001b[0m\u001b[0;34m\u001b[0m\u001b[0m\n\u001b[1;32m   1329\u001b[0m       \u001b[0mmessage\u001b[0m \u001b[0;34m=\u001b[0m \u001b[0mcompat\u001b[0m\u001b[0;34m.\u001b[0m\u001b[0mas_text\u001b[0m\u001b[0;34m(\u001b[0m\u001b[0me\u001b[0m\u001b[0;34m.\u001b[0m\u001b[0mmessage\u001b[0m\u001b[0;34m)\u001b[0m\u001b[0;34m\u001b[0m\u001b[0m\n",
      "\u001b[0;32m/opt/conda/lib/python3.6/site-packages/tensorflow/python/client/session.py\u001b[0m in \u001b[0;36m_run_fn\u001b[0;34m(session, feed_dict, fetch_list, target_list, options, run_metadata)\u001b[0m\n\u001b[1;32m   1304\u001b[0m           return tf_session.TF_Run(session, options,\n\u001b[1;32m   1305\u001b[0m                                    \u001b[0mfeed_dict\u001b[0m\u001b[0;34m,\u001b[0m \u001b[0mfetch_list\u001b[0m\u001b[0;34m,\u001b[0m \u001b[0mtarget_list\u001b[0m\u001b[0;34m,\u001b[0m\u001b[0;34m\u001b[0m\u001b[0m\n\u001b[0;32m-> 1306\u001b[0;31m                                    status, run_metadata)\n\u001b[0m\u001b[1;32m   1307\u001b[0m \u001b[0;34m\u001b[0m\u001b[0m\n\u001b[1;32m   1308\u001b[0m     \u001b[0;32mdef\u001b[0m \u001b[0m_prun_fn\u001b[0m\u001b[0;34m(\u001b[0m\u001b[0msession\u001b[0m\u001b[0;34m,\u001b[0m \u001b[0mhandle\u001b[0m\u001b[0;34m,\u001b[0m \u001b[0mfeed_dict\u001b[0m\u001b[0;34m,\u001b[0m \u001b[0mfetch_list\u001b[0m\u001b[0;34m)\u001b[0m\u001b[0;34m:\u001b[0m\u001b[0;34m\u001b[0m\u001b[0m\n",
      "\u001b[0;31mKeyboardInterrupt\u001b[0m: "
     ]
    }
   ],
   "source": [
    "from keras.callbacks import ModelCheckpoint, EarlyStopping\n",
    "\n",
    "### TODO: 设置训练模型的epochs的数量\n",
    "\n",
    "epochs = 150\n",
    "\n",
    "### 不要修改下方代码\n",
    "\n",
    "checkpointer = ModelCheckpoint(filepath='saved_models/weights.best.from_scratch.hdf5',  monitor='val_loss', verbose=1, save_best_only=True, mode='min')\n",
    "earlystopper = EarlyStopping(monitor='val_loss', patience = 10, verbose = 1)\n",
    "model.fit(train_tensors, train_targets, \n",
    "          validation_data=(valid_tensors, valid_targets),\n",
    "          epochs=epochs, batch_size=20, callbacks=[checkpointer, earlystopper], verbose=1)"
   ]
  },
  {
   "cell_type": "code",
   "execution_count": 18,
   "metadata": {},
   "outputs": [],
   "source": [
    "## 加载具有最好验证loss的模型\n",
    "model.load_weights('saved_models/weights.best.from_scratch.hdf5')"
   ]
  },
  {
   "cell_type": "markdown",
   "metadata": {},
   "source": [
    "### 测试模型\n",
    "\n",
    "在狗图像的测试数据集上试用你的模型。确保测试准确率大于1%。"
   ]
  },
  {
   "cell_type": "code",
   "execution_count": 19,
   "metadata": {},
   "outputs": [
    {
     "name": "stdout",
     "output_type": "stream",
     "text": [
      "Test accuracy: 19.0191%\n"
     ]
    }
   ],
   "source": [
    "# 获取测试数据集中每一个图像所预测的狗品种的index\n",
    "dog_breed_predictions = [np.argmax(model.predict(np.expand_dims(tensor, axis=0))) for tensor in test_tensors]\n",
    "\n",
    "# 报告测试准确率\n",
    "test_accuracy = 100*np.sum(np.array(dog_breed_predictions)==np.argmax(test_targets, axis=1))/len(dog_breed_predictions)\n",
    "print('Test accuracy: %.4f%%' % test_accuracy)"
   ]
  },
  {
   "cell_type": "markdown",
   "metadata": {},
   "source": [
    "Test accuracy: 4.1866% 提升-Test accuracy: 19.0191%\n",
    "\n",
    "提高准确率有很多小技巧～\n",
    "\n",
    ">1.你可以使劲往上加层，直到它在测试集上过拟合，然后再加正则化和数据增强\n",
    "\n",
    ">2.如果不过拟合了，再接着往上加层\n",
    "\n",
    "通常模型的大小取决于数据的量和复杂度，但是如果你使用max-pooling，你需要增加向上的每一层的神经元（比如你可以double一下）。通常在dense layer之前有2-5层，kernel size 3-5就差不多。你也可以用grid search找一组比较满意的参数～\n",
    "\n",
    "常用的正则化方法：\n",
    "\n",
    ">batch normalization. 防止梯度消失～你可以参阅这篇文章：[Batch Normalization: Accelerating Deep Network Training by Reducing Internal Covariate Shift](https://arxiv.org/pdf/1502.03167v3.pdf)\n",
    "\n",
    ">Max-Norm regularization & Dropout. 你可以参阅这篇文章: [Dropout: A Simple Way to Prevent Neural Networks from Overfitting](http://jmlr.org/papers/volume15/srivastava14a/srivastava14a.pdf)\n",
    "\n",
    ">L1 / L2 weight regularization\n",
    "Sparsity regularization (e.g. [Sparse deep belief net model for visual area V2] (http://web.eecs.umich.edu/~honglak/nips07-sparseDBN.pdf))\n",
    "\n",
    ">Gradient clipping (在成本领域进行更彻底的搜索)\n",
    "\n",
    ">Data augmentation. Data augmentation可以增加你的数据集，从而防止过度拟合。而且max-out units在最近的图像分类竞赛中很成功: [Galaxy Zoo challenge on Kaggle](https://benanne.github.io/2014/04/05/galaxy-zoo.html) 和 [Classifying plankton with deep neural networks](https://benanne.github.io/2015/03/17/plankton.html)\n",
    "\n",
    "（出自： [some advices about how to improve the performance of Convolutional Neural Networks）](https://www.researchgate.net/post/Could_you_give_me_some_advices_about_how_to_improve_the_performance_of_Convolutional_Neural_Networks)\n",
    "\n",
    "更多的阅读资料：\n",
    "\n",
    ">[What is maxout in neural network?](https://stats.stackexchange.com/questions/129698/what-is-maxout-in-neural-network)\n",
    "\n",
    ">[What is the difference between max pooling and max out?](https://www.quora.com/What-is-the-difference-between-max-pooling-and-max-out)\n",
    "\n",
    ">[Maxout Networks](https://arxiv.org/pdf/1302.4389.pdf)"
   ]
  },
  {
   "cell_type": "markdown",
   "metadata": {},
   "source": [
    "---\n",
    "<a id='step4'></a>\n",
    "## 步骤 4: 使用一个CNN来区分狗的品种\n",
    "\n",
    "\n",
    "使用 迁移学习（Transfer Learning）的方法，能帮助我们在不损失准确率的情况下大大减少训练时间。在以下步骤中，你可以尝试使用迁移学习来训练你自己的CNN。\n"
   ]
  },
  {
   "cell_type": "markdown",
   "metadata": {},
   "source": [
    "### 得到从图像中提取的特征向量（Bottleneck Features）"
   ]
  },
  {
   "cell_type": "code",
   "execution_count": 64,
   "metadata": {},
   "outputs": [],
   "source": [
    "bottleneck_features = np.load('/data/bottleneck_features/DogVGG16Data.npz')\n",
    "train_VGG16 = bottleneck_features['train']\n",
    "valid_VGG16 = bottleneck_features['valid']\n",
    "test_VGG16 = bottleneck_features['test']"
   ]
  },
  {
   "cell_type": "markdown",
   "metadata": {},
   "source": [
    "### 模型架构\n",
    "\n",
    "该模型使用预训练的 VGG-16 模型作为固定的图像特征提取器，其中 VGG-16 最后一层卷积层的输出被直接输入到我们的模型。我们只需要添加一个全局平均池化层以及一个全连接层，其中全连接层使用 softmax 激活函数，对每一个狗的种类都包含一个节点。"
   ]
  },
  {
   "cell_type": "code",
   "execution_count": 65,
   "metadata": {},
   "outputs": [
    {
     "name": "stdout",
     "output_type": "stream",
     "text": [
      "_________________________________________________________________\n",
      "Layer (type)                 Output Shape              Param #   \n",
      "=================================================================\n",
      "global_average_pooling2d_6 ( (None, 512)               0         \n",
      "_________________________________________________________________\n",
      "dense_11 (Dense)             (None, 133)               68229     \n",
      "=================================================================\n",
      "Total params: 68,229\n",
      "Trainable params: 68,229\n",
      "Non-trainable params: 0\n",
      "_________________________________________________________________\n"
     ]
    }
   ],
   "source": [
    "VGG16_model = Sequential()\n",
    "VGG16_model.add(GlobalAveragePooling2D(input_shape=train_VGG16.shape[1:]))\n",
    "VGG16_model.add(Dense(133, activation='softmax'))\n",
    "\n",
    "VGG16_model.summary()"
   ]
  },
  {
   "cell_type": "code",
   "execution_count": 66,
   "metadata": {},
   "outputs": [],
   "source": [
    "## 编译模型\n",
    "\n",
    "VGG16_model.compile(loss='categorical_crossentropy', optimizer='rmsprop', metrics=['accuracy'])"
   ]
  },
  {
   "cell_type": "code",
   "execution_count": 67,
   "metadata": {},
   "outputs": [
    {
     "name": "stdout",
     "output_type": "stream",
     "text": [
      "Train on 6680 samples, validate on 835 samples\n",
      "Epoch 1/20\n",
      "6660/6680 [============================>.] - ETA: 0s - loss: 12.2637 - acc: 0.1384Epoch 00001: val_loss improved from inf to 10.89008, saving model to saved_models/weights.best.VGG16.hdf5\n",
      "6680/6680 [==============================] - 2s 279us/step - loss: 12.2619 - acc: 0.1385 - val_loss: 10.8901 - val_acc: 0.2371\n",
      "Epoch 2/20\n",
      "6520/6680 [============================>.] - ETA: 0s - loss: 10.5260 - acc: 0.2813Epoch 00002: val_loss improved from 10.89008 to 10.44679, saving model to saved_models/weights.best.VGG16.hdf5\n",
      "6680/6680 [==============================] - 2s 256us/step - loss: 10.5222 - acc: 0.2814 - val_loss: 10.4468 - val_acc: 0.2778\n",
      "Epoch 3/20\n",
      "6480/6680 [============================>.] - ETA: 0s - loss: 10.0908 - acc: 0.3272Epoch 00003: val_loss improved from 10.44679 to 10.28868, saving model to saved_models/weights.best.VGG16.hdf5\n",
      "6680/6680 [==============================] - 2s 248us/step - loss: 10.0963 - acc: 0.3274 - val_loss: 10.2887 - val_acc: 0.2898\n",
      "Epoch 4/20\n",
      "6660/6680 [============================>.] - ETA: 0s - loss: 9.8147 - acc: 0.3498Epoch 00004: val_loss improved from 10.28868 to 10.03059, saving model to saved_models/weights.best.VGG16.hdf5\n",
      "6680/6680 [==============================] - 2s 252us/step - loss: 9.8103 - acc: 0.3501 - val_loss: 10.0306 - val_acc: 0.3102\n",
      "Epoch 5/20\n",
      "6620/6680 [============================>.] - ETA: 0s - loss: 9.4991 - acc: 0.3761Epoch 00005: val_loss improved from 10.03059 to 9.78535, saving model to saved_models/weights.best.VGG16.hdf5\n",
      "6680/6680 [==============================] - 2s 256us/step - loss: 9.5015 - acc: 0.3760 - val_loss: 9.7854 - val_acc: 0.3341\n",
      "Epoch 6/20\n",
      "6500/6680 [============================>.] - ETA: 0s - loss: 9.2397 - acc: 0.3955Epoch 00006: val_loss improved from 9.78535 to 9.56536, saving model to saved_models/weights.best.VGG16.hdf5\n",
      "6680/6680 [==============================] - 2s 252us/step - loss: 9.2205 - acc: 0.3970 - val_loss: 9.5654 - val_acc: 0.3425\n",
      "Epoch 7/20\n",
      "6620/6680 [============================>.] - ETA: 0s - loss: 9.0235 - acc: 0.4160Epoch 00007: val_loss improved from 9.56536 to 9.46240, saving model to saved_models/weights.best.VGG16.hdf5\n",
      "6680/6680 [==============================] - 2s 255us/step - loss: 9.0251 - acc: 0.4159 - val_loss: 9.4624 - val_acc: 0.3365\n",
      "Epoch 8/20\n",
      "6640/6680 [============================>.] - ETA: 0s - loss: 8.8870 - acc: 0.4289Epoch 00008: val_loss improved from 9.46240 to 9.36682, saving model to saved_models/weights.best.VGG16.hdf5\n",
      "6680/6680 [==============================] - 2s 254us/step - loss: 8.8853 - acc: 0.4290 - val_loss: 9.3668 - val_acc: 0.3593\n",
      "Epoch 9/20\n",
      "6480/6680 [============================>.] - ETA: 0s - loss: 8.8069 - acc: 0.4372Epoch 00009: val_loss improved from 9.36682 to 9.24276, saving model to saved_models/weights.best.VGG16.hdf5\n",
      "6680/6680 [==============================] - 2s 252us/step - loss: 8.8232 - acc: 0.4358 - val_loss: 9.2428 - val_acc: 0.3617\n",
      "Epoch 10/20\n",
      "6660/6680 [============================>.] - ETA: 0s - loss: 8.6263 - acc: 0.4392Epoch 00010: val_loss improved from 9.24276 to 9.10060, saving model to saved_models/weights.best.VGG16.hdf5\n",
      "6680/6680 [==============================] - 2s 254us/step - loss: 8.6195 - acc: 0.4397 - val_loss: 9.1006 - val_acc: 0.3737\n",
      "Epoch 11/20\n",
      "6640/6680 [============================>.] - ETA: 0s - loss: 8.4028 - acc: 0.4521Epoch 00011: val_loss improved from 9.10060 to 8.83707, saving model to saved_models/weights.best.VGG16.hdf5\n",
      "6680/6680 [==============================] - 2s 255us/step - loss: 8.4009 - acc: 0.4522 - val_loss: 8.8371 - val_acc: 0.3737\n",
      "Epoch 12/20\n",
      "6540/6680 [============================>.] - ETA: 0s - loss: 8.0998 - acc: 0.4735Epoch 00012: val_loss improved from 8.83707 to 8.62670, saving model to saved_models/weights.best.VGG16.hdf5\n",
      "6680/6680 [==============================] - 2s 252us/step - loss: 8.0892 - acc: 0.4744 - val_loss: 8.6267 - val_acc: 0.4120\n",
      "Epoch 13/20\n",
      "6660/6680 [============================>.] - ETA: 0s - loss: 7.9570 - acc: 0.4895Epoch 00013: val_loss improved from 8.62670 to 8.62564, saving model to saved_models/weights.best.VGG16.hdf5\n",
      "6680/6680 [==============================] - 2s 243us/step - loss: 7.9575 - acc: 0.4895 - val_loss: 8.6256 - val_acc: 0.4000\n",
      "Epoch 14/20\n",
      "6600/6680 [============================>.] - ETA: 0s - loss: 7.8902 - acc: 0.4970Epoch 00014: val_loss improved from 8.62564 to 8.56834, saving model to saved_models/weights.best.VGG16.hdf5\n",
      "6680/6680 [==============================] - 2s 245us/step - loss: 7.8924 - acc: 0.4970 - val_loss: 8.5683 - val_acc: 0.4072\n",
      "Epoch 15/20\n",
      "6600/6680 [============================>.] - ETA: 0s - loss: 7.8630 - acc: 0.5006Epoch 00015: val_loss improved from 8.56834 to 8.43744, saving model to saved_models/weights.best.VGG16.hdf5\n",
      "6680/6680 [==============================] - 2s 246us/step - loss: 7.8504 - acc: 0.5013 - val_loss: 8.4374 - val_acc: 0.4144\n",
      "Epoch 16/20\n",
      "6600/6680 [============================>.] - ETA: 0s - loss: 7.7445 - acc: 0.5092Epoch 00016: val_loss improved from 8.43744 to 8.39132, saving model to saved_models/weights.best.VGG16.hdf5\n",
      "6680/6680 [==============================] - 2s 245us/step - loss: 7.7366 - acc: 0.5097 - val_loss: 8.3913 - val_acc: 0.4263\n",
      "Epoch 17/20\n",
      "6600/6680 [============================>.] - ETA: 0s - loss: 7.6493 - acc: 0.5132Epoch 00017: val_loss improved from 8.39132 to 8.30469, saving model to saved_models/weights.best.VGG16.hdf5\n",
      "6680/6680 [==============================] - 2s 246us/step - loss: 7.6609 - acc: 0.5124 - val_loss: 8.3047 - val_acc: 0.4228\n",
      "Epoch 18/20\n",
      "6560/6680 [============================>.] - ETA: 0s - loss: 7.6043 - acc: 0.5191Epoch 00018: val_loss did not improve\n",
      "6680/6680 [==============================] - 2s 244us/step - loss: 7.5980 - acc: 0.5196 - val_loss: 8.3095 - val_acc: 0.4251\n",
      "Epoch 19/20\n",
      "6620/6680 [============================>.] - ETA: 0s - loss: 7.6076 - acc: 0.5211Epoch 00019: val_loss improved from 8.30469 to 8.27662, saving model to saved_models/weights.best.VGG16.hdf5\n",
      "6680/6680 [==============================] - 2s 245us/step - loss: 7.5805 - acc: 0.5228 - val_loss: 8.2766 - val_acc: 0.4335\n",
      "Epoch 20/20\n",
      "6580/6680 [============================>.] - ETA: 0s - loss: 7.5482 - acc: 0.5267Epoch 00020: val_loss did not improve\n",
      "6680/6680 [==============================] - 2s 244us/step - loss: 7.5644 - acc: 0.5256 - val_loss: 8.3448 - val_acc: 0.4251\n"
     ]
    },
    {
     "data": {
      "text/plain": [
       "<keras.callbacks.History at 0x7f9e69259ac8>"
      ]
     },
     "execution_count": 67,
     "metadata": {},
     "output_type": "execute_result"
    }
   ],
   "source": [
    "## 训练模型\n",
    "\n",
    "checkpointer = ModelCheckpoint(filepath='saved_models/weights.best.VGG16.hdf5', \n",
    "                               verbose=1, save_best_only=True)\n",
    "\n",
    "VGG16_model.fit(train_VGG16, train_targets, \n",
    "          validation_data=(valid_VGG16, valid_targets),\n",
    "          epochs=20, batch_size=20, callbacks=[checkpointer], verbose=1)\n",
    "\n"
   ]
  },
  {
   "cell_type": "code",
   "execution_count": 68,
   "metadata": {},
   "outputs": [],
   "source": [
    "## 加载具有最好验证loss的模型\n",
    "\n",
    "VGG16_model.load_weights('saved_models/weights.best.VGG16.hdf5')"
   ]
  },
  {
   "cell_type": "markdown",
   "metadata": {},
   "source": [
    "### 测试模型\n",
    "现在，我们可以测试此CNN在狗图像测试数据集中识别品种的效果如何。我们在下方打印出测试准确率。"
   ]
  },
  {
   "cell_type": "code",
   "execution_count": 69,
   "metadata": {},
   "outputs": [
    {
     "name": "stdout",
     "output_type": "stream",
     "text": [
      "Test accuracy: 44.0191%\n"
     ]
    }
   ],
   "source": [
    "# 获取测试数据集中每一个图像所预测的狗品种的index\n",
    "VGG16_predictions = [np.argmax(VGG16_model.predict(np.expand_dims(feature, axis=0))) for feature in test_VGG16]\n",
    "\n",
    "# 报告测试准确率\n",
    "test_accuracy = 100*np.sum(np.array(VGG16_predictions)==np.argmax(test_targets, axis=1))/len(VGG16_predictions)\n",
    "print('Test accuracy: %.4f%%' % test_accuracy)"
   ]
  },
  {
   "cell_type": "markdown",
   "metadata": {},
   "source": [
    "### 使用模型预测狗的品种"
   ]
  },
  {
   "cell_type": "code",
   "execution_count": 37,
   "metadata": {},
   "outputs": [],
   "source": [
    "from extract_bottleneck_features import *\n",
    "\n",
    "def VGG16_predict_breed(img_path):\n",
    "    # 提取bottleneck特征\n",
    "    bottleneck_feature = extract_VGG16(path_to_tensor(img_path))\n",
    "    # 获取预测向量\n",
    "    predicted_vector = VGG16_model.predict(bottleneck_feature)\n",
    "    # 返回此模型预测的狗的品种\n",
    "    return dog_names[np.argmax(predicted_vector)]"
   ]
  },
  {
   "cell_type": "markdown",
   "metadata": {},
   "source": [
    "---\n",
    "<a id='step5'></a>\n",
    "## 步骤 5: 建立一个CNN来分类狗的品种（使用迁移学习）\n",
    "\n",
    "现在你将使用迁移学习来建立一个CNN，从而可以从图像中识别狗的品种。你的 CNN 在测试集上的准确率必须至少达到60%。\n",
    "\n",
    "在步骤4中，我们使用了迁移学习来创建一个使用基于 VGG-16 提取的特征向量来搭建一个 CNN。在本部分内容中，你必须使用另一个预训练模型来搭建一个 CNN。为了让这个任务更易实现，我们已经预先对目前 keras 中可用的几种网络进行了预训练：\n",
    "\n",
    "- [VGG-19](https://s3-us-west-1.amazonaws.com/udacity-aind/dog-project/DogVGG19Data.npz) bottleneck features\n",
    "- [ResNet-50](https://s3-us-west-1.amazonaws.com/udacity-aind/dog-project/DogResnet50Data.npz) bottleneck features\n",
    "- [Inception](https://s3-us-west-1.amazonaws.com/udacity-aind/dog-project/DogInceptionV3Data.npz) bottleneck features\n",
    "- [Xception](https://s3-us-west-1.amazonaws.com/udacity-aind/dog-project/DogXceptionData.npz) bottleneck features\n",
    "\n",
    "这些文件被命名为为：\n",
    "\n",
    "    Dog{network}Data.npz\n",
    "\n",
    "其中 `{network}` 可以是 `VGG19`、`Resnet50`、`InceptionV3` 或 `Xception` 中的一个。选择上方网络架构中的一个，他们已经保存在目录 `/data/bottleneck_features/` 中。\n",
    "\n",
    "\n",
    "### 【练习】获取模型的特征向量\n",
    "\n",
    "在下方代码块中，通过运行下方代码提取训练、测试与验证集相对应的bottleneck特征。\n",
    "\n",
    "    bottleneck_features = np.load('/data/bottleneck_features/Dog{network}Data.npz')\n",
    "    train_{network} = bottleneck_features['train']\n",
    "    valid_{network} = bottleneck_features['valid']\n",
    "    test_{network} = bottleneck_features['test']"
   ]
  },
  {
   "cell_type": "markdown",
   "metadata": {},
   "source": [
    "关于四个架构的区别，请参考这篇文章：ImageNet: [VGGNet, ResNet, Inception, and Xception with Keras](https://www.pyimagesearch.com/2017/03/20/imagenet-vggnet-resnet-inception-xception-keras/)"
   ]
  },
  {
   "cell_type": "code",
   "execution_count": 28,
   "metadata": {},
   "outputs": [],
   "source": [
    "### TODO: 从另一个预训练的CNN获取bottleneck特征\n",
    "bottleneck_features_VGG19 = np.load('/data/bottleneck_features/DogVGG19Data.npz')\n",
    "train_VGG19 = bottleneck_features_VGG19['train']\n",
    "valid_VGG19 = bottleneck_features_VGG19['valid']\n",
    "test_VGG19 = bottleneck_features_VGG19['test']"
   ]
  },
  {
   "cell_type": "code",
   "execution_count": 33,
   "metadata": {},
   "outputs": [],
   "source": [
    "### TODO: 从另一个预训练的CNN获取bottleneck特征\n",
    "bottleneck_features_Resnet50 = np.load('/data/bottleneck_features/DogResnet50Data.npz')\n",
    "train_Resnet50 = bottleneck_features_Resnet50['train']\n",
    "valid_Resnet50 = bottleneck_features_Resnet50['valid']\n",
    "test_Resnet50 = bottleneck_features_Resnet50['test']"
   ]
  },
  {
   "cell_type": "code",
   "execution_count": 16,
   "metadata": {},
   "outputs": [],
   "source": [
    "### TODO: 从另一个预训练的CNN获取bottleneck特征\n",
    "bottleneck_features_Inception = np.load('/data/bottleneck_features/DogInceptionV3Data.npz')\n",
    "train_Inception = bottleneck_features_Inception['train']\n",
    "valid_Inception = bottleneck_features_Inception['valid']\n",
    "test_Inception = bottleneck_features_Inception['test']"
   ]
  },
  {
   "cell_type": "code",
   "execution_count": 17,
   "metadata": {},
   "outputs": [],
   "source": [
    "### TODO: 从另一个预训练的CNN获取bottleneck特征\n",
    "bottleneck_features_Xception = np.load('/data/bottleneck_features/DogXceptionData.npz')\n",
    "train_Xception = bottleneck_features_Xception['train']\n",
    "valid_Xception = bottleneck_features_Xception['valid']\n",
    "test_Xception = bottleneck_features_Xception['test']"
   ]
  },
  {
   "cell_type": "markdown",
   "metadata": {},
   "source": [
    "### 【练习】模型架构\n",
    "\n",
    "建立一个CNN来分类狗品种。在你的代码单元块的最后，通过运行如下代码输出网络的结构：\n",
    "    \n",
    "        <your model's name>.summary()\n",
    "   \n",
    "---\n",
    "\n",
    "<a id='question6'></a>  \n",
    "\n",
    "### __问题 6:__ \n",
    "\n",
    "\n",
    "在下方的代码块中尝试使用 Keras 搭建最终的网络架构，并回答你实现最终 CNN 架构的步骤与每一步的作用，并描述你在迁移学习过程中，使用该网络架构的原因。\n",
    "\n",
    "\n",
    "__回答:__ \n",
    "\n",
    "### 1.\n",
    "对于每个模型我都训练了20个epochs，batch_size=20\n",
    "\n",
    ">VGG -72.7273%\n",
    "\n",
    ">ResNet-50 - 82.6555%\n",
    "\n",
    ">Inception - 80.6220%\n",
    "\n",
    ">Xception - 80.6220%\n",
    "\n",
    "从准确率上来看，ResNet50有最高的准确率，对于内存的要求来说Xception最小，在准确率上，我认为通过微调，Xception可以达到和Resnet相当的水平，所以在这里我选择Xception作为架构。\n",
    "\n",
    "我的网络架构如下，首先是GAP层-提取和压缩经过Xception Net学习的特征，然后送入有500个节点的FC全连接层，然后设定Dropout为0.2，最后是133的全连接层，使用softmax分类。\n",
    "\n",
    "从imagenet获取的inception训练模型，已经包含了足够的图像信息，不用再添加额外的Conv层来学习数据，所以在这里我选择了使用GAP层去压缩和总结信息。\n",
    "\n",
    "之后，使用一个500个节点的FC全连接层。使用这个全连接层的原因是，把inception最后的全连接层除以2得来的。\n",
    "\n",
    "之后，使用relu激活函数，0.5的dropout率是给予经验选择的，其实在最后的验证率上0.5， 0.4， 0.3， 0.2都差不多。\n",
    "\n",
    "### 2.\n",
    "\n",
    "为什么这一架构会在这一分类任务中成功？\n",
    ">这四个架构都是经过反复多次实验确定的，非常有效果的架构。以Inception net为例，inception net是多层特征提取器，通过分别多次同时提取特征，然后叠加，就可以学到不同层次的特征，所以效果非常好。\n",
    "\n",
    "为什么早期（第三步 ）的尝试不成功？\n",
    ">第三步中，第一，使用的网络在架构上，非常浅，学到的特征非常少，其次学习库非常小，上面四个网络是在Imagenet上经过大量训练在不同种类的训练集上得来的，这是这个小库无法比拟的。"
   ]
  },
  {
   "cell_type": "code",
   "execution_count": 58,
   "metadata": {},
   "outputs": [
    {
     "name": "stdout",
     "output_type": "stream",
     "text": [
      "_________________________________________________________________\n",
      "Layer (type)                 Output Shape              Param #   \n",
      "=================================================================\n",
      "global_average_pooling2d_5 ( (None, 2048)              0         \n",
      "_________________________________________________________________\n",
      "dense_9 (Dense)              (None, 500)               1024500   \n",
      "_________________________________________________________________\n",
      "activation_5 (Activation)    (None, 500)               0         \n",
      "_________________________________________________________________\n",
      "dropout_5 (Dropout)          (None, 500)               0         \n",
      "_________________________________________________________________\n",
      "dense_10 (Dense)             (None, 133)               66633     \n",
      "=================================================================\n",
      "Total params: 1,091,133\n",
      "Trainable params: 1,091,133\n",
      "Non-trainable params: 0\n",
      "_________________________________________________________________\n"
     ]
    }
   ],
   "source": [
    "from keras.layers import Conv2D, MaxPooling2D, GlobalAveragePooling2D\n",
    "from keras.layers import Dropout, Flatten, Dense, Activation, BatchNormalization\n",
    "from keras.models import Sequential\n",
    "\n",
    "test_model = Sequential()\n",
    "### TODO: 定义你的框架\n",
    "test_model = Sequential()\n",
    "test_model.add(GlobalAveragePooling2D(input_shape=train_Xception.shape[1:]))\n",
    "test_model.add(Dense(500))\n",
    "test_model.add(Activation(\"relu\"))\n",
    "test_model.add(Dropout(0.5))\n",
    "test_model.add(Dense(133, activation='softmax'))\n",
    "\n",
    "test_model.summary()"
   ]
  },
  {
   "cell_type": "code",
   "execution_count": 59,
   "metadata": {},
   "outputs": [],
   "source": [
    "test_model.compile(loss='categorical_crossentropy', optimizer='rmsprop', metrics=['accuracy'])"
   ]
  },
  {
   "cell_type": "markdown",
   "metadata": {},
   "source": [
    "推荐尝试一下Adam优化器的，时下比较流行，相比于AdaGrad, RMSProp, SGDNesterov 和 AdaDelta来说效率更高～可以参考一下这篇文章：[Gentle Introduction to the Adam Optimization Algorithm for Deep Learning](https://machinelearningmastery.com/adam-optimization-algorithm-for-deep-learning/)\n",
    "就像你在第三步时用的那样～"
   ]
  },
  {
   "cell_type": "markdown",
   "metadata": {},
   "source": [
    "---\n",
    "\n",
    "### 【练习】训练模型\n",
    "\n",
    "<a id='question7'></a>  \n",
    "\n",
    "### __问题 7:__ \n",
    "\n",
    "在下方代码单元中训练你的模型。使用模型检查点（model checkpointing）来储存具有最低验证集 loss 的模型。\n",
    "\n",
    "当然，你也可以对训练集进行 [数据增强](https://blog.keras.io/building-powerful-image-classification-models-using-very-little-data.html) 以优化模型的表现，不过这不是必须的步骤。\n"
   ]
  },
  {
   "cell_type": "code",
   "execution_count": 37,
   "metadata": {},
   "outputs": [
    {
     "name": "stdout",
     "output_type": "stream",
     "text": [
      "Train on 6680 samples, validate on 835 samples\n",
      "Epoch 1/20\n",
      "6600/6680 [============================>.] - ETA: 0s - loss: 6.8981 - acc: 0.1847Epoch 00001: val_loss improved from inf to 1.97693, saving model to saved_models/weights.best.VGG19_model.hdf5\n",
      "6680/6680 [==============================] - 4s 642us/step - loss: 6.8527 - acc: 0.1861 - val_loss: 1.9769 - val_acc: 0.5353\n",
      "Epoch 2/20\n",
      "6600/6680 [============================>.] - ETA: 0s - loss: 2.2060 - acc: 0.4827Epoch 00002: val_loss improved from 1.97693 to 1.24685, saving model to saved_models/weights.best.VGG19_model.hdf5\n",
      "6680/6680 [==============================] - 2s 307us/step - loss: 2.2014 - acc: 0.4837 - val_loss: 1.2468 - val_acc: 0.6467\n",
      "Epoch 3/20\n",
      "6660/6680 [============================>.] - ETA: 0s - loss: 1.6620 - acc: 0.5908Epoch 00003: val_loss improved from 1.24685 to 1.08630, saving model to saved_models/weights.best.VGG19_model.hdf5\n",
      "6680/6680 [==============================] - 2s 307us/step - loss: 1.6611 - acc: 0.5909 - val_loss: 1.0863 - val_acc: 0.7042\n",
      "Epoch 4/20\n",
      "6580/6680 [============================>.] - ETA: 0s - loss: 1.4093 - acc: 0.6549Epoch 00004: val_loss improved from 1.08630 to 1.02943, saving model to saved_models/weights.best.VGG19_model.hdf5\n",
      "6680/6680 [==============================] - 2s 308us/step - loss: 1.4121 - acc: 0.6548 - val_loss: 1.0294 - val_acc: 0.7186\n",
      "Epoch 5/20\n",
      "6620/6680 [============================>.] - ETA: 0s - loss: 1.2699 - acc: 0.6920Epoch 00005: val_loss did not improve\n",
      "6680/6680 [==============================] - 2s 305us/step - loss: 1.2728 - acc: 0.6916 - val_loss: 1.0691 - val_acc: 0.7234\n",
      "Epoch 6/20\n",
      "6540/6680 [============================>.] - ETA: 0s - loss: 1.1701 - acc: 0.7106Epoch 00006: val_loss did not improve\n",
      "6680/6680 [==============================] - 2s 308us/step - loss: 1.1653 - acc: 0.7102 - val_loss: 1.1182 - val_acc: 0.7497\n",
      "Epoch 7/20\n",
      "6580/6680 [============================>.] - ETA: 0s - loss: 1.1047 - acc: 0.7380Epoch 00007: val_loss did not improve\n",
      "6680/6680 [==============================] - 2s 306us/step - loss: 1.1025 - acc: 0.7386 - val_loss: 1.1550 - val_acc: 0.7234\n",
      "Epoch 8/20\n",
      "6560/6680 [============================>.] - ETA: 0s - loss: 1.0016 - acc: 0.7552Epoch 00008: val_loss did not improve\n",
      "6680/6680 [==============================] - 2s 307us/step - loss: 1.0009 - acc: 0.7552 - val_loss: 1.0636 - val_acc: 0.7665\n",
      "Epoch 9/20\n",
      "6660/6680 [============================>.] - ETA: 0s - loss: 0.9917 - acc: 0.7679Epoch 00009: val_loss did not improve\n",
      "6680/6680 [==============================] - 2s 305us/step - loss: 0.9936 - acc: 0.7677 - val_loss: 1.0341 - val_acc: 0.7353\n",
      "Epoch 10/20\n",
      "6600/6680 [============================>.] - ETA: 0s - loss: 0.9641 - acc: 0.7783Epoch 00010: val_loss did not improve\n",
      "6680/6680 [==============================] - 2s 305us/step - loss: 0.9747 - acc: 0.7774 - val_loss: 1.3243 - val_acc: 0.7557\n",
      "Epoch 11/20\n",
      "6620/6680 [============================>.] - ETA: 0s - loss: 0.9367 - acc: 0.7915Epoch 00011: val_loss did not improve\n",
      "6680/6680 [==============================] - 2s 306us/step - loss: 0.9405 - acc: 0.7907 - val_loss: 1.1859 - val_acc: 0.7617\n",
      "Epoch 12/20\n",
      "6540/6680 [============================>.] - ETA: 0s - loss: 0.8819 - acc: 0.8050Epoch 00012: val_loss did not improve\n",
      "6680/6680 [==============================] - 2s 309us/step - loss: 0.8806 - acc: 0.8054 - val_loss: 1.2865 - val_acc: 0.7485\n",
      "Epoch 13/20\n",
      "6540/6680 [============================>.] - ETA: 0s - loss: 0.8671 - acc: 0.8101Epoch 00013: val_loss did not improve\n",
      "6680/6680 [==============================] - 2s 309us/step - loss: 0.8720 - acc: 0.8094 - val_loss: 1.3283 - val_acc: 0.7437\n",
      "Epoch 14/20\n",
      "6600/6680 [============================>.] - ETA: 0s - loss: 0.8401 - acc: 0.8158Epoch 00014: val_loss did not improve\n",
      "6680/6680 [==============================] - 2s 306us/step - loss: 0.8458 - acc: 0.8162 - val_loss: 1.3727 - val_acc: 0.7557\n",
      "Epoch 15/20\n",
      "6580/6680 [============================>.] - ETA: 0s - loss: 0.8304 - acc: 0.8223Epoch 00015: val_loss did not improve\n",
      "6680/6680 [==============================] - 2s 307us/step - loss: 0.8318 - acc: 0.8223 - val_loss: 1.3710 - val_acc: 0.7497\n",
      "Epoch 16/20\n",
      "6620/6680 [============================>.] - ETA: 0s - loss: 0.8630 - acc: 0.8254Epoch 00016: val_loss did not improve\n",
      "6680/6680 [==============================] - 2s 305us/step - loss: 0.8634 - acc: 0.8251 - val_loss: 1.3279 - val_acc: 0.7653\n",
      "Epoch 17/20\n",
      "6480/6680 [============================>.] - ETA: 0s - loss: 0.7694 - acc: 0.8421Epoch 00017: val_loss did not improve\n",
      "6680/6680 [==============================] - 2s 305us/step - loss: 0.7819 - acc: 0.8410 - val_loss: 1.4872 - val_acc: 0.7605\n",
      "Epoch 18/20\n",
      "6620/6680 [============================>.] - ETA: 0s - loss: 0.7623 - acc: 0.8403Epoch 00018: val_loss did not improve\n",
      "6680/6680 [==============================] - 2s 306us/step - loss: 0.7648 - acc: 0.8403 - val_loss: 1.5607 - val_acc: 0.7725\n",
      "Epoch 19/20\n",
      "6540/6680 [============================>.] - ETA: 0s - loss: 0.7833 - acc: 0.8451Epoch 00019: val_loss did not improve\n",
      "6680/6680 [==============================] - 2s 302us/step - loss: 0.7889 - acc: 0.8451 - val_loss: 1.5480 - val_acc: 0.7725\n",
      "Epoch 20/20\n",
      "6620/6680 [============================>.] - ETA: 0s - loss: 0.8074 - acc: 0.8468Epoch 00020: val_loss did not improve\n",
      "6680/6680 [==============================] - 2s 285us/step - loss: 0.8057 - acc: 0.8472 - val_loss: 1.5591 - val_acc: 0.7653\n"
     ]
    },
    {
     "data": {
      "text/plain": [
       "<keras.callbacks.History at 0x7f9eae48e240>"
      ]
     },
     "execution_count": 37,
     "metadata": {},
     "output_type": "execute_result"
    }
   ],
   "source": [
    "from keras.callbacks import ModelCheckpoint, EarlyStopping\n",
    "### TODO: 训练模型\n",
    "checkpointer_VGG19 = ModelCheckpoint(filepath='saved_models/weights.best.VGG19_model.hdf5', \n",
    "                               verbose=1, save_best_only=True)\n",
    "\n",
    "test_model.fit(train_VGG19, train_targets, \n",
    "          validation_data=(valid_VGG19, valid_targets),\n",
    "          epochs=20, batch_size=20, callbacks=[checkpointer_VGG19], verbose=1)\n"
   ]
  },
  {
   "cell_type": "code",
   "execution_count": 50,
   "metadata": {},
   "outputs": [
    {
     "name": "stdout",
     "output_type": "stream",
     "text": [
      "Train on 6680 samples, validate on 835 samples\n",
      "Epoch 1/20\n",
      "6640/6680 [============================>.] - ETA: 0s - loss: 0.2651 - acc: 0.9316Epoch 00001: val_loss improved from inf to 1.06595, saving model to saved_models/weights.best.Resnet_model.hdf5\n",
      "6680/6680 [==============================] - 2s 322us/step - loss: 0.2662 - acc: 0.9316 - val_loss: 1.0659 - val_acc: 0.8060\n",
      "Epoch 2/20\n",
      "6500/6680 [============================>.] - ETA: 0s - loss: 0.2464 - acc: 0.9337Epoch 00002: val_loss did not improve\n",
      "6680/6680 [==============================] - 2s 315us/step - loss: 0.2442 - acc: 0.9340 - val_loss: 1.1334 - val_acc: 0.8192\n",
      "Epoch 3/20\n",
      "6660/6680 [============================>.] - ETA: 0s - loss: 0.2647 - acc: 0.9342Epoch 00003: val_loss improved from 1.06595 to 1.06465, saving model to saved_models/weights.best.Resnet_model.hdf5\n",
      "6680/6680 [==============================] - 2s 316us/step - loss: 0.2658 - acc: 0.9340 - val_loss: 1.0646 - val_acc: 0.8251\n",
      "Epoch 4/20\n",
      "6500/6680 [============================>.] - ETA: 0s - loss: 0.2661 - acc: 0.9332Epoch 00004: val_loss did not improve\n",
      "6680/6680 [==============================] - 2s 314us/step - loss: 0.2629 - acc: 0.9341 - val_loss: 1.1326 - val_acc: 0.8228\n",
      "Epoch 5/20\n",
      "6600/6680 [============================>.] - ETA: 0s - loss: 0.2593 - acc: 0.9341Epoch 00005: val_loss did not improve\n",
      "6680/6680 [==============================] - 2s 319us/step - loss: 0.2589 - acc: 0.9343 - val_loss: 1.2070 - val_acc: 0.8060\n",
      "Epoch 6/20\n",
      "6500/6680 [============================>.] - ETA: 0s - loss: 0.2307 - acc: 0.9360Epoch 00006: val_loss did not improve\n",
      "6680/6680 [==============================] - 2s 314us/step - loss: 0.2305 - acc: 0.9364 - val_loss: 1.1088 - val_acc: 0.8216\n",
      "Epoch 7/20\n",
      "6660/6680 [============================>.] - ETA: 0s - loss: 0.2487 - acc: 0.9375Epoch 00007: val_loss did not improve\n",
      "6680/6680 [==============================] - 2s 315us/step - loss: 0.2485 - acc: 0.9376 - val_loss: 1.1436 - val_acc: 0.8168\n",
      "Epoch 8/20\n",
      "6500/6680 [============================>.] - ETA: 0s - loss: 0.2568 - acc: 0.9369Epoch 00008: val_loss did not improve\n",
      "6680/6680 [==============================] - 2s 314us/step - loss: 0.2571 - acc: 0.9370 - val_loss: 1.3421 - val_acc: 0.8216\n",
      "Epoch 9/20\n",
      "6620/6680 [============================>.] - ETA: 0s - loss: 0.2606 - acc: 0.9385Epoch 00009: val_loss did not improve\n",
      "6680/6680 [==============================] - 2s 318us/step - loss: 0.2593 - acc: 0.9389 - val_loss: 1.2159 - val_acc: 0.8192\n",
      "Epoch 10/20\n",
      "6640/6680 [============================>.] - ETA: 0s - loss: 0.2519 - acc: 0.9423Epoch 00010: val_loss did not improve\n",
      "6680/6680 [==============================] - 2s 308us/step - loss: 0.2551 - acc: 0.9419 - val_loss: 1.3042 - val_acc: 0.8144\n",
      "Epoch 11/20\n",
      "6560/6680 [============================>.] - ETA: 0s - loss: 0.2435 - acc: 0.9436Epoch 00011: val_loss did not improve\n",
      "6680/6680 [==============================] - 2s 298us/step - loss: 0.2444 - acc: 0.9434 - val_loss: 1.2065 - val_acc: 0.8216\n",
      "Epoch 12/20\n",
      "6640/6680 [============================>.] - ETA: 0s - loss: 0.2519 - acc: 0.9438Epoch 00012: val_loss did not improve\n",
      "6680/6680 [==============================] - 2s 298us/step - loss: 0.2528 - acc: 0.9437 - val_loss: 1.1830 - val_acc: 0.8168\n",
      "Epoch 13/20\n",
      "6560/6680 [============================>.] - ETA: 0s - loss: 0.2024 - acc: 0.9506Epoch 00013: val_loss did not improve\n",
      "6680/6680 [==============================] - 2s 298us/step - loss: 0.2015 - acc: 0.9507 - val_loss: 1.3413 - val_acc: 0.8060\n",
      "Epoch 14/20\n",
      "6560/6680 [============================>.] - ETA: 0s - loss: 0.2104 - acc: 0.9477Epoch 00014: val_loss did not improve\n",
      "6680/6680 [==============================] - 2s 298us/step - loss: 0.2084 - acc: 0.9481 - val_loss: 1.3000 - val_acc: 0.8263\n",
      "Epoch 15/20\n",
      "6560/6680 [============================>.] - ETA: 0s - loss: 0.2045 - acc: 0.9483Epoch 00015: val_loss did not improve\n",
      "6680/6680 [==============================] - 2s 299us/step - loss: 0.2029 - acc: 0.9487 - val_loss: 1.5779 - val_acc: 0.8108\n",
      "Epoch 16/20\n",
      "6580/6680 [============================>.] - ETA: 0s - loss: 0.2189 - acc: 0.9470Epoch 00016: val_loss did not improve\n",
      "6680/6680 [==============================] - 2s 299us/step - loss: 0.2176 - acc: 0.9472 - val_loss: 1.3635 - val_acc: 0.8216\n",
      "Epoch 17/20\n",
      "6580/6680 [============================>.] - ETA: 0s - loss: 0.2129 - acc: 0.9512Epoch 00017: val_loss did not improve\n",
      "6680/6680 [==============================] - 2s 299us/step - loss: 0.2149 - acc: 0.9507 - val_loss: 1.3400 - val_acc: 0.8299\n",
      "Epoch 18/20\n",
      "6600/6680 [============================>.] - ETA: 0s - loss: 0.2345 - acc: 0.9520Epoch 00018: val_loss did not improve\n",
      "6680/6680 [==============================] - 2s 298us/step - loss: 0.2334 - acc: 0.9521 - val_loss: 1.3233 - val_acc: 0.8204\n",
      "Epoch 19/20\n",
      "6600/6680 [============================>.] - ETA: 0s - loss: 0.2162 - acc: 0.9508Epoch 00019: val_loss did not improve\n",
      "6680/6680 [==============================] - 2s 298us/step - loss: 0.2146 - acc: 0.9510 - val_loss: 1.3032 - val_acc: 0.8311\n",
      "Epoch 20/20\n",
      "6560/6680 [============================>.] - ETA: 0s - loss: 0.2287 - acc: 0.9497Epoch 00020: val_loss did not improve\n",
      "6680/6680 [==============================] - 2s 298us/step - loss: 0.2298 - acc: 0.9499 - val_loss: 1.2928 - val_acc: 0.8455\n"
     ]
    },
    {
     "data": {
      "text/plain": [
       "<keras.callbacks.History at 0x7f9eac0db048>"
      ]
     },
     "execution_count": 50,
     "metadata": {},
     "output_type": "execute_result"
    }
   ],
   "source": [
    "checkpointer_Resnet = ModelCheckpoint(filepath='saved_models/weights.best.Resnet_model.hdf5', \n",
    "                               verbose=1, save_best_only=True)\n",
    "\n",
    "test_model.fit(train_Resnet50, train_targets, \n",
    "          validation_data=(valid_Resnet50, valid_targets),\n",
    "          epochs=20, batch_size=20, callbacks=[checkpointer_Resnet], verbose=1)"
   ]
  },
  {
   "cell_type": "code",
   "execution_count": 55,
   "metadata": {},
   "outputs": [
    {
     "name": "stdout",
     "output_type": "stream",
     "text": [
      "Train on 6680 samples, validate on 835 samples\n",
      "Epoch 1/20\n",
      "6540/6680 [============================>.] - ETA: 0s - loss: 2.0032 - acc: 0.5474Epoch 00001: val_loss improved from inf to 0.73862, saving model to saved_models/weights.best.Inc_model.hdf5\n",
      "6680/6680 [==============================] - 3s 429us/step - loss: 1.9824 - acc: 0.5506 - val_loss: 0.7386 - val_acc: 0.7617\n",
      "Epoch 2/20\n",
      "6600/6680 [============================>.] - ETA: 0s - loss: 0.9709 - acc: 0.7406Epoch 00002: val_loss improved from 0.73862 to 0.68118, saving model to saved_models/weights.best.Inc_model.hdf5\n",
      "6680/6680 [==============================] - 3s 413us/step - loss: 0.9762 - acc: 0.7406 - val_loss: 0.6812 - val_acc: 0.8108\n",
      "Epoch 3/20\n",
      "6600/6680 [============================>.] - ETA: 0s - loss: 0.8346 - acc: 0.7694Epoch 00003: val_loss improved from 0.68118 to 0.64666, saving model to saved_models/weights.best.Inc_model.hdf5\n",
      "6680/6680 [==============================] - 3s 414us/step - loss: 0.8332 - acc: 0.7698 - val_loss: 0.6467 - val_acc: 0.8275\n",
      "Epoch 4/20\n",
      "6600/6680 [============================>.] - ETA: 0s - loss: 0.7658 - acc: 0.7959Epoch 00004: val_loss improved from 0.64666 to 0.62419, saving model to saved_models/weights.best.Inc_model.hdf5\n",
      "6680/6680 [==============================] - 3s 412us/step - loss: 0.7644 - acc: 0.7966 - val_loss: 0.6242 - val_acc: 0.8287\n",
      "Epoch 5/20\n",
      "6620/6680 [============================>.] - ETA: 0s - loss: 0.7051 - acc: 0.8184Epoch 00005: val_loss did not improve\n",
      "6680/6680 [==============================] - 3s 409us/step - loss: 0.7035 - acc: 0.8189 - val_loss: 0.6721 - val_acc: 0.8251\n",
      "Epoch 6/20\n",
      "6600/6680 [============================>.] - ETA: 0s - loss: 0.6668 - acc: 0.8306Epoch 00006: val_loss did not improve\n",
      "6680/6680 [==============================] - 3s 413us/step - loss: 0.6676 - acc: 0.8307 - val_loss: 0.7319 - val_acc: 0.8311\n",
      "Epoch 7/20\n",
      "6600/6680 [============================>.] - ETA: 0s - loss: 0.6223 - acc: 0.8391Epoch 00007: val_loss did not improve\n",
      "6680/6680 [==============================] - 3s 411us/step - loss: 0.6217 - acc: 0.8392 - val_loss: 0.8014 - val_acc: 0.8251\n",
      "Epoch 8/20\n",
      "6600/6680 [============================>.] - ETA: 0s - loss: 0.6020 - acc: 0.8468Epoch 00008: val_loss did not improve\n",
      "6680/6680 [==============================] - 3s 410us/step - loss: 0.6027 - acc: 0.8469 - val_loss: 0.7607 - val_acc: 0.8335\n",
      "Epoch 9/20\n",
      "6600/6680 [============================>.] - ETA: 0s - loss: 0.5706 - acc: 0.8556Epoch 00009: val_loss did not improve\n",
      "6680/6680 [==============================] - 3s 411us/step - loss: 0.5726 - acc: 0.8548 - val_loss: 0.8458 - val_acc: 0.8419\n",
      "Epoch 10/20\n",
      "6600/6680 [============================>.] - ETA: 0s - loss: 0.5648 - acc: 0.8577Epoch 00010: val_loss did not improve\n",
      "6680/6680 [==============================] - 3s 411us/step - loss: 0.5698 - acc: 0.8572 - val_loss: 0.7861 - val_acc: 0.8335\n",
      "Epoch 11/20\n",
      "6600/6680 [============================>.] - ETA: 0s - loss: 0.5364 - acc: 0.8709Epoch 00011: val_loss did not improve\n",
      "6680/6680 [==============================] - 3s 415us/step - loss: 0.5419 - acc: 0.8702 - val_loss: 0.7797 - val_acc: 0.8467\n",
      "Epoch 12/20\n",
      "6600/6680 [============================>.] - ETA: 0s - loss: 0.4958 - acc: 0.8745Epoch 00012: val_loss did not improve\n",
      "6680/6680 [==============================] - 3s 411us/step - loss: 0.4944 - acc: 0.8750 - val_loss: 0.7877 - val_acc: 0.8467\n",
      "Epoch 13/20\n",
      "6580/6680 [============================>.] - ETA: 0s - loss: 0.5401 - acc: 0.8783Epoch 00013: val_loss did not improve\n",
      "6680/6680 [==============================] - 3s 411us/step - loss: 0.5413 - acc: 0.8780 - val_loss: 0.9144 - val_acc: 0.8467\n",
      "Epoch 14/20\n",
      "6600/6680 [============================>.] - ETA: 0s - loss: 0.4539 - acc: 0.8909Epoch 00014: val_loss did not improve\n",
      "6680/6680 [==============================] - 3s 411us/step - loss: 0.4546 - acc: 0.8904 - val_loss: 0.8245 - val_acc: 0.8527\n",
      "Epoch 15/20\n",
      "6600/6680 [============================>.] - ETA: 0s - loss: 0.4721 - acc: 0.8871Epoch 00015: val_loss did not improve\n",
      "6680/6680 [==============================] - 3s 409us/step - loss: 0.4735 - acc: 0.8865 - val_loss: 0.8994 - val_acc: 0.8407\n",
      "Epoch 16/20\n",
      "6620/6680 [============================>.] - ETA: 0s - loss: 0.4777 - acc: 0.8941Epoch 00016: val_loss did not improve\n",
      "6680/6680 [==============================] - 3s 411us/step - loss: 0.4809 - acc: 0.8939 - val_loss: 1.0962 - val_acc: 0.8323\n",
      "Epoch 17/20\n",
      "6600/6680 [============================>.] - ETA: 0s - loss: 0.4387 - acc: 0.8955Epoch 00017: val_loss did not improve\n",
      "6680/6680 [==============================] - 3s 412us/step - loss: 0.4368 - acc: 0.8960 - val_loss: 0.9944 - val_acc: 0.8431\n",
      "Epoch 18/20\n",
      "6600/6680 [============================>.] - ETA: 0s - loss: 0.4327 - acc: 0.9006Epoch 00018: val_loss did not improve\n",
      "6680/6680 [==============================] - 3s 412us/step - loss: 0.4319 - acc: 0.9006 - val_loss: 0.9866 - val_acc: 0.8443\n",
      "Epoch 19/20\n",
      "6600/6680 [============================>.] - ETA: 0s - loss: 0.4475 - acc: 0.9021Epoch 00019: val_loss did not improve\n",
      "6680/6680 [==============================] - 3s 408us/step - loss: 0.4495 - acc: 0.9021 - val_loss: 0.9944 - val_acc: 0.8491\n",
      "Epoch 20/20\n",
      "6600/6680 [============================>.] - ETA: 0s - loss: 0.4189 - acc: 0.9023Epoch 00020: val_loss did not improve\n",
      "6680/6680 [==============================] - 3s 409us/step - loss: 0.4199 - acc: 0.9025 - val_loss: 0.9461 - val_acc: 0.8611\n"
     ]
    },
    {
     "data": {
      "text/plain": [
       "<keras.callbacks.History at 0x7f9e699cb160>"
      ]
     },
     "execution_count": 55,
     "metadata": {},
     "output_type": "execute_result"
    }
   ],
   "source": [
    "checkpointer_Inception = ModelCheckpoint(filepath='saved_models/weights.best.Inc_model.hdf5', \n",
    "                               verbose=1, save_best_only=True)\n",
    "\n",
    "test_model.fit(train_Inception, train_targets, \n",
    "          validation_data=(valid_Inception, valid_targets),\n",
    "          epochs=20, batch_size=20, callbacks=[checkpointer_Inception], verbose=1)"
   ]
  },
  {
   "cell_type": "code",
   "execution_count": 60,
   "metadata": {},
   "outputs": [
    {
     "name": "stdout",
     "output_type": "stream",
     "text": [
      "Train on 6680 samples, validate on 835 samples\n",
      "Epoch 1/20\n",
      "6620/6680 [============================>.] - ETA: 0s - loss: 1.6146 - acc: 0.6125Epoch 00001: val_loss improved from inf to 0.62463, saving model to saved_models/weights.best.X_model.hdf5\n",
      "6680/6680 [==============================] - 3s 522us/step - loss: 1.6081 - acc: 0.6139 - val_loss: 0.6246 - val_acc: 0.8168\n",
      "Epoch 2/20\n",
      "6620/6680 [============================>.] - ETA: 0s - loss: 0.7068 - acc: 0.7941Epoch 00002: val_loss improved from 0.62463 to 0.58112, saving model to saved_models/weights.best.X_model.hdf5\n",
      "6680/6680 [==============================] - 3s 507us/step - loss: 0.7071 - acc: 0.7942 - val_loss: 0.5811 - val_acc: 0.8156\n",
      "Epoch 3/20\n",
      "6620/6680 [============================>.] - ETA: 0s - loss: 0.5821 - acc: 0.8246Epoch 00003: val_loss improved from 0.58112 to 0.55202, saving model to saved_models/weights.best.X_model.hdf5\n",
      "6680/6680 [==============================] - 3s 508us/step - loss: 0.5843 - acc: 0.8249 - val_loss: 0.5520 - val_acc: 0.8263\n",
      "Epoch 4/20\n",
      "6620/6680 [============================>.] - ETA: 0s - loss: 0.5100 - acc: 0.8521Epoch 00004: val_loss did not improve\n",
      "6680/6680 [==============================] - 3s 504us/step - loss: 0.5124 - acc: 0.8518 - val_loss: 0.6172 - val_acc: 0.8323\n",
      "Epoch 5/20\n",
      "6620/6680 [============================>.] - ETA: 0s - loss: 0.4599 - acc: 0.8650Epoch 00005: val_loss did not improve\n",
      "6680/6680 [==============================] - 3s 499us/step - loss: 0.4610 - acc: 0.8648 - val_loss: 0.5988 - val_acc: 0.8479\n",
      "Epoch 6/20\n",
      "6620/6680 [============================>.] - ETA: 0s - loss: 0.4267 - acc: 0.8727Epoch 00006: val_loss did not improve\n",
      "6680/6680 [==============================] - 3s 505us/step - loss: 0.4278 - acc: 0.8722 - val_loss: 0.5971 - val_acc: 0.8311\n",
      "Epoch 7/20\n",
      "6600/6680 [============================>.] - ETA: 0s - loss: 0.3697 - acc: 0.8885Epoch 00007: val_loss did not improve\n",
      "6680/6680 [==============================] - 3s 506us/step - loss: 0.3703 - acc: 0.8883 - val_loss: 0.6549 - val_acc: 0.8503\n",
      "Epoch 8/20\n",
      "6600/6680 [============================>.] - ETA: 0s - loss: 0.3582 - acc: 0.8961Epoch 00008: val_loss did not improve\n",
      "6680/6680 [==============================] - 3s 504us/step - loss: 0.3580 - acc: 0.8960 - val_loss: 0.6977 - val_acc: 0.8479\n",
      "Epoch 9/20\n",
      "6600/6680 [============================>.] - ETA: 0s - loss: 0.3289 - acc: 0.9002Epoch 00009: val_loss did not improve\n",
      "6680/6680 [==============================] - 3s 504us/step - loss: 0.3294 - acc: 0.9003 - val_loss: 0.6519 - val_acc: 0.8407\n",
      "Epoch 10/20\n",
      "6580/6680 [============================>.] - ETA: 0s - loss: 0.2961 - acc: 0.9106Epoch 00010: val_loss did not improve\n",
      "6680/6680 [==============================] - 3s 499us/step - loss: 0.2955 - acc: 0.9106 - val_loss: 0.7515 - val_acc: 0.8515\n",
      "Epoch 11/20\n",
      "6620/6680 [============================>.] - ETA: 0s - loss: 0.2876 - acc: 0.9156Epoch 00011: val_loss did not improve\n",
      "6680/6680 [==============================] - 3s 500us/step - loss: 0.2877 - acc: 0.9154 - val_loss: 0.7210 - val_acc: 0.8491\n",
      "Epoch 12/20\n",
      "6620/6680 [============================>.] - ETA: 0s - loss: 0.2915 - acc: 0.9181Epoch 00012: val_loss did not improve\n",
      "6680/6680 [==============================] - 3s 499us/step - loss: 0.2902 - acc: 0.9184 - val_loss: 0.7447 - val_acc: 0.8419\n",
      "Epoch 13/20\n",
      "6660/6680 [============================>.] - ETA: 0s - loss: 0.2550 - acc: 0.9240Epoch 00013: val_loss did not improve\n",
      "6680/6680 [==============================] - 3s 504us/step - loss: 0.2548 - acc: 0.9240 - val_loss: 0.7821 - val_acc: 0.8479\n",
      "Epoch 14/20\n",
      "6620/6680 [============================>.] - ETA: 0s - loss: 0.2524 - acc: 0.9279Epoch 00014: val_loss did not improve\n",
      "6680/6680 [==============================] - 3s 502us/step - loss: 0.2519 - acc: 0.9280 - val_loss: 0.8079 - val_acc: 0.8467\n",
      "Epoch 15/20\n",
      "6620/6680 [============================>.] - ETA: 0s - loss: 0.2313 - acc: 0.9335Epoch 00015: val_loss did not improve\n",
      "6680/6680 [==============================] - 3s 505us/step - loss: 0.2307 - acc: 0.9337 - val_loss: 0.8074 - val_acc: 0.8527\n",
      "Epoch 16/20\n",
      "6620/6680 [============================>.] - ETA: 0s - loss: 0.2289 - acc: 0.9364Epoch 00016: val_loss did not improve\n",
      "6680/6680 [==============================] - 3s 504us/step - loss: 0.2282 - acc: 0.9359 - val_loss: 0.8442 - val_acc: 0.8467\n",
      "Epoch 17/20\n",
      "6620/6680 [============================>.] - ETA: 0s - loss: 0.2282 - acc: 0.9376Epoch 00017: val_loss did not improve\n",
      "6680/6680 [==============================] - 3s 504us/step - loss: 0.2288 - acc: 0.9371 - val_loss: 0.8903 - val_acc: 0.8311\n",
      "Epoch 18/20\n",
      "6620/6680 [============================>.] - ETA: 0s - loss: 0.2056 - acc: 0.9399Epoch 00018: val_loss did not improve\n",
      "6680/6680 [==============================] - 3s 506us/step - loss: 0.2068 - acc: 0.9397 - val_loss: 0.8676 - val_acc: 0.8383\n",
      "Epoch 19/20\n",
      "6620/6680 [============================>.] - ETA: 0s - loss: 0.1975 - acc: 0.9465Epoch 00019: val_loss did not improve\n",
      "6680/6680 [==============================] - 3s 502us/step - loss: 0.1963 - acc: 0.9469 - val_loss: 0.9144 - val_acc: 0.8467\n",
      "Epoch 20/20\n",
      "6600/6680 [============================>.] - ETA: 0s - loss: 0.2018 - acc: 0.9439Epoch 00020: val_loss did not improve\n",
      "6680/6680 [==============================] - 3s 501us/step - loss: 0.1999 - acc: 0.9443 - val_loss: 0.9535 - val_acc: 0.8515\n"
     ]
    },
    {
     "data": {
      "text/plain": [
       "<keras.callbacks.History at 0x7f9e694e68d0>"
      ]
     },
     "execution_count": 60,
     "metadata": {},
     "output_type": "execute_result"
    }
   ],
   "source": [
    "checkpointer_X = ModelCheckpoint(filepath='saved_models/weights.best.X_model.hdf5', \n",
    "                               verbose=1, save_best_only=True)\n",
    "\n",
    "test_model.fit(train_Xception, train_targets, \n",
    "          validation_data=(valid_Xception, valid_targets),\n",
    "          epochs=20, batch_size=20, callbacks=[checkpointer_X], verbose=1)"
   ]
  },
  {
   "cell_type": "code",
   "execution_count": 41,
   "metadata": {},
   "outputs": [],
   "source": [
    "test_model.load_weights('saved_models/weights.best.VGG19_model.hdf5')\n",
    "VGG19_predictions = [np.argmax(test_model.predict(np.expand_dims(feature, axis=0))) for feature in test_VGG19]"
   ]
  },
  {
   "cell_type": "code",
   "execution_count": 51,
   "metadata": {},
   "outputs": [],
   "source": [
    "test_model.load_weights('saved_models/weights.best.Resnet_model.hdf5')\n",
    "Resnet_predictions = [np.argmax(test_model.predict(np.expand_dims(feature, axis=0))) for feature in test_Resnet50]"
   ]
  },
  {
   "cell_type": "code",
   "execution_count": 56,
   "metadata": {},
   "outputs": [],
   "source": [
    "test_model.load_weights('saved_models/weights.best.Inc_model.hdf5')\n",
    "Inception_predictions = [np.argmax(test_model.predict(np.expand_dims(feature, axis=0))) for feature in test_Inception]"
   ]
  },
  {
   "cell_type": "code",
   "execution_count": 61,
   "metadata": {},
   "outputs": [],
   "source": [
    "test_model.load_weights('saved_models/weights.best.X_model.hdf5')\n",
    "Xception_predictions = [np.argmax(test_model.predict(np.expand_dims(feature, axis=0))) for feature in test_Xception]"
   ]
  },
  {
   "cell_type": "markdown",
   "metadata": {},
   "source": [
    "---\n",
    "\n",
    "### 【练习】测试模型\n",
    "\n",
    "<a id='question8'></a>  \n",
    "\n",
    "### __问题 8:__ \n",
    "\n",
    "在狗图像的测试数据集上试用你的模型。确保测试准确率大于60%。"
   ]
  },
  {
   "cell_type": "code",
   "execution_count": 43,
   "metadata": {},
   "outputs": [
    {
     "name": "stdout",
     "output_type": "stream",
     "text": [
      "Test accuracy: 72.7273%\n"
     ]
    }
   ],
   "source": [
    "test_accuracy_VGG19 = 100*np.sum(np.array(VGG19_predictions)==np.argmax(test_targets, axis=1))/len(VGG19_predictions)\n",
    "print('Test accuracy: %.4f%%' % test_accuracy_VGG19)"
   ]
  },
  {
   "cell_type": "code",
   "execution_count": 52,
   "metadata": {},
   "outputs": [
    {
     "name": "stdout",
     "output_type": "stream",
     "text": [
      "Test accuracy: 82.6555%\n"
     ]
    }
   ],
   "source": [
    "test_accuracy_Resnet = 100*np.sum(np.array(Resnet_predictions)==np.argmax(test_targets, axis=1))/len(Resnet_predictions)\n",
    "print('Test accuracy: %.4f%%' % test_accuracy_Resnet)"
   ]
  },
  {
   "cell_type": "code",
   "execution_count": 57,
   "metadata": {},
   "outputs": [
    {
     "name": "stdout",
     "output_type": "stream",
     "text": [
      "Test accuracy: 80.6220%\n"
     ]
    }
   ],
   "source": [
    "### TODO: 在测试集上计算分类准确率\n",
    "test_accuracy = 100*np.sum(np.array(Inception_predictions)==np.argmax(test_targets, axis=1))/len(Inception_predictions)\n",
    "print('Test accuracy: %.4f%%' % test_accuracy)"
   ]
  },
  {
   "cell_type": "code",
   "execution_count": 62,
   "metadata": {},
   "outputs": [
    {
     "name": "stdout",
     "output_type": "stream",
     "text": [
      "Test accuracy: 80.6220%\n"
     ]
    }
   ],
   "source": [
    "test_accuracy_Xception = 100*np.sum(np.array(Xception_predictions)==np.argmax(test_targets, axis=1))/len(Xception_predictions)\n",
    "print('Test accuracy: %.4f%%' % test_accuracy)"
   ]
  },
  {
   "cell_type": "markdown",
   "metadata": {},
   "source": [
    "---\n",
    "\n",
    "### 【练习】使用模型测试狗的品种\n",
    "\n",
    "\n",
    "实现一个函数，它的输入为图像路径，功能为预测对应图像的类别，输出为你模型预测出的狗类别（`Affenpinscher`, `Afghan_hound` 等）。\n",
    "\n",
    "与步骤5中的模拟函数类似，你的函数应当包含如下三个步骤：\n",
    "\n",
    "1. 根据选定的模型载入图像特征（bottleneck features）\n",
    "2. 将图像特征输输入到你的模型中，并返回预测向量。注意，在该向量上使用 argmax 函数可以返回狗种类的序号。\n",
    "3. 使用在步骤0中定义的 `dog_names` 数组来返回对应的狗种类名称。\n",
    "\n",
    "提取图像特征过程中使用到的函数可以在 `extract_bottleneck_features.py` 中找到。同时，他们应已在之前的代码块中被导入。根据你选定的 CNN 网络，你可以使用 `extract_{network}` 函数来获得对应的图像特征，其中 `{network}` 代表 `VGG19`, `Resnet50`, `InceptionV3`, 或 `Xception` 中的一个。\n",
    " \n",
    "---\n",
    "\n",
    "<a id='question9'></a>  \n",
    "\n",
    "### __问题 9:__"
   ]
  },
  {
   "cell_type": "code",
   "execution_count": 45,
   "metadata": {},
   "outputs": [],
   "source": [
    "### TODO: 写一个函数，该函数将图像的路径作为输入\n",
    "def dog_names_guess(img_path):\n",
    "    bottleneck_feature = extract_InceptionV3(path_to_tensor(img_path))\n",
    "    index = np.argmax(Inception_model.predict(bottleneck_feature))\n",
    "    return dog_names[index]\n",
    "### 然后返回此模型所预测的狗的品种"
   ]
  },
  {
   "cell_type": "markdown",
   "metadata": {},
   "source": [
    "---\n",
    "\n",
    "<a id='step6'></a>\n",
    "## 步骤 6: 完成你的算法\n",
    "\n",
    "\n",
    "\n",
    "实现一个算法，它的输入为图像的路径，它能够区分图像是否包含一个人、狗或两者都不包含，然后：\n",
    "\n",
    "- 如果从图像中检测到一只__狗__，返回被预测的品种。\n",
    "- 如果从图像中检测到__人__，返回最相像的狗品种。\n",
    "- 如果两者都不能在图像中检测到，输出错误提示。\n",
    "\n",
    "我们非常欢迎你来自己编写检测图像中人类与狗的函数，你可以随意地使用上方完成的 `face_detector` 和 `dog_detector` 函数。你__需要__在步骤5使用你的CNN来预测狗品种。\n",
    "\n",
    "下面提供了算法的示例输出，但你可以自由地设计自己的模型！\n",
    "\n",
    "![Sample Human Output](images/sample_human_output.png)\n",
    "\n",
    "\n",
    "\n",
    "\n",
    "<a id='question10'></a>  \n",
    "\n",
    "### __问题 10:__\n",
    "\n",
    "在下方代码块中完成你的代码。\n",
    "\n",
    "---\n"
   ]
  },
  {
   "cell_type": "code",
   "execution_count": 48,
   "metadata": {},
   "outputs": [],
   "source": [
    "### TODO: 设计你的算法\n",
    "def dog_human_guess(img_path):\n",
    "    if dog_detector(img_path) == True:\n",
    "        message = 'The breed of this dog is'\n",
    "        value = dog_names_guess(img_path)\n",
    "    elif face_detector(img_path) == True:\n",
    "        message = 'You look like a...'\n",
    "        value = dog_names_guess(img_path)\n",
    "    else:\n",
    "        return 'No human or dog'\n",
    "        \n",
    "    return \"{}:{}\".format(message, value)\n",
    "### 自由地使用所需的代码单元数吧"
   ]
  },
  {
   "cell_type": "markdown",
   "metadata": {},
   "source": [
    "---\n",
    "<a id='step7'></a>\n",
    "## 步骤 7: 测试你的算法\n",
    "\n",
    "在这个部分中，你将尝试一下你的新算法！算法认为__你__看起来像什么类型的狗？如果你有一只狗，它可以准确地预测你的狗的品种吗？如果你有一只猫，它会将你的猫误判为一只狗吗？\n",
    "\n",
    "\n",
    "<a id='question11'></a>  \n",
    "\n",
    "### __问题 11:__\n",
    "\n",
    "在下方编写代码，用至少6张现实中的图片来测试你的算法。你可以使用任意照片，不过请至少使用两张人类图片（要征得当事人同意哦）和两张狗的图片。\n",
    "同时请回答如下问题：\n",
    "\n",
    "1. 输出结果比你预想的要好吗 :) ？或者更糟 :( ？\n",
    ">输出的结果，我是比较满意的。\n",
    "2. 提出至少三点改进你的模型的想法。\n",
    "\n",
    ">a. 提高训练的epoch数，这里只训练了20个比较少\n",
    "\n",
    ">b. 使用数据增强\n",
    "\n",
    ">c. 把人和狗的图片做相似度分析，把相似度作为变量加入模型。"
   ]
  },
  {
   "attachments": {
    "Aaron_Eckhart_0001.jpg": {
     "image/jpeg": "[encoded data removed]"
    },
    "Aaron_Guiel_0001.jpg": {
     "image/jpeg": "[encoded data removed]"
    },
    "Aaron_Patterson_0001.jpg": {
     "image/jpeg": "[encoded data removed]"
    },
    "Affenpinscher_00003.jpg": {
     "image/jpeg": "[encoded data removed]"
    },
    "Afghan_hound_00116.jpg": {
     "image/jpeg": "[encoded data removed]"
    },
    "Airedale_terrier_00175.jpg": {
     "image/jpeg": "[encoded data removed]"
    }
   },
   "cell_type": "markdown",
   "metadata": {},
   "source": [
    "![Affenpinscher_00003.jpg](attachment:Affenpinscher_00003.jpg)\n",
    "\n",
    "![Afghan_hound_00116.jpg](attachment:Afghan_hound_00116.jpg)\n",
    "\n",
    "![Airedale_terrier_00175.jpg](attachment:Airedale_terrier_00175.jpg)\n",
    "\n",
    "![Aaron_Eckhart_0001.jpg](attachment:Aaron_Eckhart_0001.jpg)\n",
    "\n",
    "![Aaron_Guiel_0001.jpg](attachment:Aaron_Guiel_0001.jpg)\n",
    "\n",
    "![Aaron_Patterson_0001.jpg](attachment:Aaron_Patterson_0001.jpg)"
   ]
  },
  {
   "cell_type": "code",
   "execution_count": 49,
   "metadata": {},
   "outputs": [
    {
     "name": "stdout",
     "output_type": "stream",
     "text": [
      "The breed of this dog is:in/001.Affenpinscher\n",
      "The breed of this dog is:in/002.Afghan_hound\n",
      "The breed of this dog is:in/003.Airedale_terrier\n",
      "You look like a...:in/112.Nova_scotia_duck_tolling_retriever\n",
      "You look like a...:in/112.Nova_scotia_duck_tolling_retriever\n",
      "You look like a...:in/082.Havanese\n"
     ]
    }
   ],
   "source": [
    "## TODO: 在你的电脑上，在步骤6中，至少在6张图片上运行你的算法。\n",
    "\n",
    "print(dog_human_guess(\"/data/dog_images/test/001.Affenpinscher/Affenpinscher_00003.jpg\"))\n",
    "print(dog_human_guess(\"/data/dog_images/test/002.Afghan_hound/Afghan_hound_00116.jpg\"))\n",
    "print(dog_human_guess(\"/data/dog_images/test/003.Airedale_terrier/Airedale_terrier_00175.jpg\"))\n",
    "print(dog_human_guess(\"/data/lfw/Aaron_Eckhart/Aaron_Eckhart_0001.jpg\"))\n",
    "print(dog_human_guess(\"/data/lfw/Aaron_Guiel/Aaron_Guiel_0001.jpg\"))\n",
    "print(dog_human_guess(\"/data/lfw/Aaron_Peirsol/Aaron_Peirsol_0002.jpg\"))\n",
    "## 自由地使用所需的代码单元数吧"
   ]
  },
  {
   "cell_type": "markdown",
   "metadata": {},
   "source": [
    "**注意: 当你写完了所有的代码，并且回答了所有的问题。你就可以把你的 iPython Notebook 导出成 HTML 文件。你可以在菜单栏，这样导出File -> Download as -> HTML (.html)把这个 HTML 和这个 iPython notebook 一起做为你的作业提交。**"
   ]
  }
 ],
 "metadata": {
  "anaconda-cloud": {},
  "kernelspec": {
   "display_name": "Python 3",
   "language": "python",
   "name": "python3"
  },
  "language_info": {
   "codemirror_mode": {
    "name": "ipython",
    "version": 3
   },
   "file_extension": ".py",
   "mimetype": "text/x-python",
   "name": "python",
   "nbconvert_exporter": "python",
   "pygments_lexer": "ipython3",
   "version": "3.6.3"
  }
 },
 "nbformat": 4,
 "nbformat_minor": 1
}
